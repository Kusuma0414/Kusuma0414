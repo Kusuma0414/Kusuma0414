{
  "cells": [
    {
      "cell_type": "markdown",
      "metadata": {
        "id": "view-in-github",
        "colab_type": "text"
      },
      "source": [
        "<a href=\"https://colab.research.google.com/github/Kusuma0414/Kusuma0414/blob/main/assignment3.ipynb\" target=\"_parent\"><img src=\"https://colab.research.google.com/assets/colab-badge.svg\" alt=\"Open In Colab\"/></a>"
      ]
    },
    {
      "cell_type": "code",
      "execution_count": null,
      "metadata": {
        "colab": {
          "base_uri": "https://localhost:8080/"
        },
        "id": "uzVj3UqmOIP_",
        "outputId": "ad6a9d0e-2c5d-4b9d-f2e8-ffb7e31f1037"
      },
      "outputs": [
        {
          "name": "stdout",
          "output_type": "stream",
          "text": [
            "     sepal.length  sepal.width  petal.length  petal.width    variety\n",
            "0             5.1          3.5           1.4          0.2     Setosa\n",
            "1             4.9          3.0           1.4          0.2     Setosa\n",
            "2             4.7          3.2           1.3          0.2     Setosa\n",
            "3             4.6          3.1           1.5          0.2     Setosa\n",
            "4             5.0          3.6           1.4          0.2     Setosa\n",
            "..            ...          ...           ...          ...        ...\n",
            "145           6.7          3.0           5.2          2.3  Virginica\n",
            "146           6.3          2.5           5.0          1.9  Virginica\n",
            "147           6.5          3.0           5.2          2.0  Virginica\n",
            "148           6.2          3.4           5.4          2.3  Virginica\n",
            "149           5.9          3.0           5.1          1.8  Virginica\n",
            "\n",
            "[150 rows x 5 columns]\n"
          ]
        }
      ],
      "source": [
        "import pandas as pd\n",
        "path=\"/content/iris (1).csv.xlsx\"\n",
        "df=pd.read_excel(path)\n",
        "print(df)"
      ]
    },
    {
      "cell_type": "code",
      "execution_count": null,
      "metadata": {
        "colab": {
          "base_uri": "https://localhost:8080/"
        },
        "id": "AFwo1n8XPejk",
        "outputId": "34f1a6f1-5127-4c21-b24d-8737faecd1ae"
      },
      "outputs": [
        {
          "data": {
            "text/plain": [
              "sepal.length    5.843333\n",
              "sepal.width     3.057333\n",
              "petal.length    3.758000\n",
              "petal.width     1.199333\n",
              "dtype: float64"
            ]
          },
          "execution_count": 4,
          "metadata": {},
          "output_type": "execute_result"
        }
      ],
      "source": [
        "import pandas as pd\n",
        "path=\"/content/iris (1).csv.xlsx\"\n",
        "df=pd.read_excel(path)\n",
        "df.mean(numeric_only=True)"
      ]
    },
    {
      "cell_type": "code",
      "execution_count": null,
      "metadata": {
        "colab": {
          "base_uri": "https://localhost:8080/"
        },
        "id": "5LxGInPXQWRb",
        "outputId": "fad825fb-beb5-4951-ca0c-714a8d0a204b"
      },
      "outputs": [
        {
          "data": {
            "text/plain": [
              "sepal.length    5.80\n",
              "sepal.width     3.00\n",
              "petal.length    4.35\n",
              "petal.width     1.30\n",
              "dtype: float64"
            ]
          },
          "execution_count": 8,
          "metadata": {},
          "output_type": "execute_result"
        }
      ],
      "source": [
        "import pandas as pd\n",
        "path=\"/content/iris (1).csv.xlsx\"\n",
        "df=pd.read_excel(path)\n",
        "df.median(numeric_only=True)"
      ]
    },
    {
      "cell_type": "code",
      "execution_count": null,
      "metadata": {
        "colab": {
          "base_uri": "https://localhost:8080/",
          "height": 112
        },
        "id": "EWbrIfadQc4h",
        "outputId": "d544017a-e343-422c-ad2b-e4d1d4c86c80"
      },
      "outputs": [
        {
          "data": {
            "application/vnd.google.colaboratory.intrinsic+json": {
              "summary": "{\n  \"name\": \"df\",\n  \"rows\": 2,\n  \"fields\": [\n    {\n      \"column\": \"sepal.length\",\n      \"properties\": {\n        \"dtype\": \"number\",\n        \"std\": null,\n        \"min\": 5.0,\n        \"max\": 5.0,\n        \"num_unique_values\": 1,\n        \"samples\": [\n          5.0\n        ],\n        \"semantic_type\": \"\",\n        \"description\": \"\"\n      }\n    },\n    {\n      \"column\": \"sepal.width\",\n      \"properties\": {\n        \"dtype\": \"number\",\n        \"std\": null,\n        \"min\": 3.0,\n        \"max\": 3.0,\n        \"num_unique_values\": 1,\n        \"samples\": [\n          3.0\n        ],\n        \"semantic_type\": \"\",\n        \"description\": \"\"\n      }\n    },\n    {\n      \"column\": \"petal.length\",\n      \"properties\": {\n        \"dtype\": \"number\",\n        \"std\": 0.07071067811865482,\n        \"min\": 1.4,\n        \"max\": 1.5,\n        \"num_unique_values\": 2,\n        \"samples\": [\n          1.5\n        ],\n        \"semantic_type\": \"\",\n        \"description\": \"\"\n      }\n    },\n    {\n      \"column\": \"petal.width\",\n      \"properties\": {\n        \"dtype\": \"number\",\n        \"std\": null,\n        \"min\": 0.2,\n        \"max\": 0.2,\n        \"num_unique_values\": 1,\n        \"samples\": [\n          0.2\n        ],\n        \"semantic_type\": \"\",\n        \"description\": \"\"\n      }\n    }\n  ]\n}",
              "type": "dataframe"
            },
            "text/html": [
              "\n",
              "  <div id=\"df-19679fab-6d09-448e-9098-45ca3b00e55e\" class=\"colab-df-container\">\n",
              "    <div>\n",
              "<style scoped>\n",
              "    .dataframe tbody tr th:only-of-type {\n",
              "        vertical-align: middle;\n",
              "    }\n",
              "\n",
              "    .dataframe tbody tr th {\n",
              "        vertical-align: top;\n",
              "    }\n",
              "\n",
              "    .dataframe thead th {\n",
              "        text-align: right;\n",
              "    }\n",
              "</style>\n",
              "<table border=\"1\" class=\"dataframe\">\n",
              "  <thead>\n",
              "    <tr style=\"text-align: right;\">\n",
              "      <th></th>\n",
              "      <th>sepal.length</th>\n",
              "      <th>sepal.width</th>\n",
              "      <th>petal.length</th>\n",
              "      <th>petal.width</th>\n",
              "    </tr>\n",
              "  </thead>\n",
              "  <tbody>\n",
              "    <tr>\n",
              "      <th>0</th>\n",
              "      <td>5.0</td>\n",
              "      <td>3.0</td>\n",
              "      <td>1.4</td>\n",
              "      <td>0.2</td>\n",
              "    </tr>\n",
              "    <tr>\n",
              "      <th>1</th>\n",
              "      <td>NaN</td>\n",
              "      <td>NaN</td>\n",
              "      <td>1.5</td>\n",
              "      <td>NaN</td>\n",
              "    </tr>\n",
              "  </tbody>\n",
              "</table>\n",
              "</div>\n",
              "    <div class=\"colab-df-buttons\">\n",
              "\n",
              "  <div class=\"colab-df-container\">\n",
              "    <button class=\"colab-df-convert\" onclick=\"convertToInteractive('df-19679fab-6d09-448e-9098-45ca3b00e55e')\"\n",
              "            title=\"Convert this dataframe to an interactive table.\"\n",
              "            style=\"display:none;\">\n",
              "\n",
              "  <svg xmlns=\"http://www.w3.org/2000/svg\" height=\"24px\" viewBox=\"0 -960 960 960\">\n",
              "    <path d=\"M120-120v-720h720v720H120Zm60-500h600v-160H180v160Zm220 220h160v-160H400v160Zm0 220h160v-160H400v160ZM180-400h160v-160H180v160Zm440 0h160v-160H620v160ZM180-180h160v-160H180v160Zm440 0h160v-160H620v160Z\"/>\n",
              "  </svg>\n",
              "    </button>\n",
              "\n",
              "  <style>\n",
              "    .colab-df-container {\n",
              "      display:flex;\n",
              "      gap: 12px;\n",
              "    }\n",
              "\n",
              "    .colab-df-convert {\n",
              "      background-color: #E8F0FE;\n",
              "      border: none;\n",
              "      border-radius: 50%;\n",
              "      cursor: pointer;\n",
              "      display: none;\n",
              "      fill: #1967D2;\n",
              "      height: 32px;\n",
              "      padding: 0 0 0 0;\n",
              "      width: 32px;\n",
              "    }\n",
              "\n",
              "    .colab-df-convert:hover {\n",
              "      background-color: #E2EBFA;\n",
              "      box-shadow: 0px 1px 2px rgba(60, 64, 67, 0.3), 0px 1px 3px 1px rgba(60, 64, 67, 0.15);\n",
              "      fill: #174EA6;\n",
              "    }\n",
              "\n",
              "    .colab-df-buttons div {\n",
              "      margin-bottom: 4px;\n",
              "    }\n",
              "\n",
              "    [theme=dark] .colab-df-convert {\n",
              "      background-color: #3B4455;\n",
              "      fill: #D2E3FC;\n",
              "    }\n",
              "\n",
              "    [theme=dark] .colab-df-convert:hover {\n",
              "      background-color: #434B5C;\n",
              "      box-shadow: 0px 1px 3px 1px rgba(0, 0, 0, 0.15);\n",
              "      filter: drop-shadow(0px 1px 2px rgba(0, 0, 0, 0.3));\n",
              "      fill: #FFFFFF;\n",
              "    }\n",
              "  </style>\n",
              "\n",
              "    <script>\n",
              "      const buttonEl =\n",
              "        document.querySelector('#df-19679fab-6d09-448e-9098-45ca3b00e55e button.colab-df-convert');\n",
              "      buttonEl.style.display =\n",
              "        google.colab.kernel.accessAllowed ? 'block' : 'none';\n",
              "\n",
              "      async function convertToInteractive(key) {\n",
              "        const element = document.querySelector('#df-19679fab-6d09-448e-9098-45ca3b00e55e');\n",
              "        const dataTable =\n",
              "          await google.colab.kernel.invokeFunction('convertToInteractive',\n",
              "                                                    [key], {});\n",
              "        if (!dataTable) return;\n",
              "\n",
              "        const docLinkHtml = 'Like what you see? Visit the ' +\n",
              "          '<a target=\"_blank\" href=https://colab.research.google.com/notebooks/data_table.ipynb>data table notebook</a>'\n",
              "          + ' to learn more about interactive tables.';\n",
              "        element.innerHTML = '';\n",
              "        dataTable['output_type'] = 'display_data';\n",
              "        await google.colab.output.renderOutput(dataTable, element);\n",
              "        const docLink = document.createElement('div');\n",
              "        docLink.innerHTML = docLinkHtml;\n",
              "        element.appendChild(docLink);\n",
              "      }\n",
              "    </script>\n",
              "  </div>\n",
              "\n",
              "\n",
              "<div id=\"df-c78193db-0878-4ade-80d0-277e6dd04fa6\">\n",
              "  <button class=\"colab-df-quickchart\" onclick=\"quickchart('df-c78193db-0878-4ade-80d0-277e6dd04fa6')\"\n",
              "            title=\"Suggest charts\"\n",
              "            style=\"display:none;\">\n",
              "\n",
              "<svg xmlns=\"http://www.w3.org/2000/svg\" height=\"24px\"viewBox=\"0 0 24 24\"\n",
              "     width=\"24px\">\n",
              "    <g>\n",
              "        <path d=\"M19 3H5c-1.1 0-2 .9-2 2v14c0 1.1.9 2 2 2h14c1.1 0 2-.9 2-2V5c0-1.1-.9-2-2-2zM9 17H7v-7h2v7zm4 0h-2V7h2v10zm4 0h-2v-4h2v4z\"/>\n",
              "    </g>\n",
              "</svg>\n",
              "  </button>\n",
              "\n",
              "<style>\n",
              "  .colab-df-quickchart {\n",
              "      --bg-color: #E8F0FE;\n",
              "      --fill-color: #1967D2;\n",
              "      --hover-bg-color: #E2EBFA;\n",
              "      --hover-fill-color: #174EA6;\n",
              "      --disabled-fill-color: #AAA;\n",
              "      --disabled-bg-color: #DDD;\n",
              "  }\n",
              "\n",
              "  [theme=dark] .colab-df-quickchart {\n",
              "      --bg-color: #3B4455;\n",
              "      --fill-color: #D2E3FC;\n",
              "      --hover-bg-color: #434B5C;\n",
              "      --hover-fill-color: #FFFFFF;\n",
              "      --disabled-bg-color: #3B4455;\n",
              "      --disabled-fill-color: #666;\n",
              "  }\n",
              "\n",
              "  .colab-df-quickchart {\n",
              "    background-color: var(--bg-color);\n",
              "    border: none;\n",
              "    border-radius: 50%;\n",
              "    cursor: pointer;\n",
              "    display: none;\n",
              "    fill: var(--fill-color);\n",
              "    height: 32px;\n",
              "    padding: 0;\n",
              "    width: 32px;\n",
              "  }\n",
              "\n",
              "  .colab-df-quickchart:hover {\n",
              "    background-color: var(--hover-bg-color);\n",
              "    box-shadow: 0 1px 2px rgba(60, 64, 67, 0.3), 0 1px 3px 1px rgba(60, 64, 67, 0.15);\n",
              "    fill: var(--button-hover-fill-color);\n",
              "  }\n",
              "\n",
              "  .colab-df-quickchart-complete:disabled,\n",
              "  .colab-df-quickchart-complete:disabled:hover {\n",
              "    background-color: var(--disabled-bg-color);\n",
              "    fill: var(--disabled-fill-color);\n",
              "    box-shadow: none;\n",
              "  }\n",
              "\n",
              "  .colab-df-spinner {\n",
              "    border: 2px solid var(--fill-color);\n",
              "    border-color: transparent;\n",
              "    border-bottom-color: var(--fill-color);\n",
              "    animation:\n",
              "      spin 1s steps(1) infinite;\n",
              "  }\n",
              "\n",
              "  @keyframes spin {\n",
              "    0% {\n",
              "      border-color: transparent;\n",
              "      border-bottom-color: var(--fill-color);\n",
              "      border-left-color: var(--fill-color);\n",
              "    }\n",
              "    20% {\n",
              "      border-color: transparent;\n",
              "      border-left-color: var(--fill-color);\n",
              "      border-top-color: var(--fill-color);\n",
              "    }\n",
              "    30% {\n",
              "      border-color: transparent;\n",
              "      border-left-color: var(--fill-color);\n",
              "      border-top-color: var(--fill-color);\n",
              "      border-right-color: var(--fill-color);\n",
              "    }\n",
              "    40% {\n",
              "      border-color: transparent;\n",
              "      border-right-color: var(--fill-color);\n",
              "      border-top-color: var(--fill-color);\n",
              "    }\n",
              "    60% {\n",
              "      border-color: transparent;\n",
              "      border-right-color: var(--fill-color);\n",
              "    }\n",
              "    80% {\n",
              "      border-color: transparent;\n",
              "      border-right-color: var(--fill-color);\n",
              "      border-bottom-color: var(--fill-color);\n",
              "    }\n",
              "    90% {\n",
              "      border-color: transparent;\n",
              "      border-bottom-color: var(--fill-color);\n",
              "    }\n",
              "  }\n",
              "</style>\n",
              "\n",
              "  <script>\n",
              "    async function quickchart(key) {\n",
              "      const quickchartButtonEl =\n",
              "        document.querySelector('#' + key + ' button');\n",
              "      quickchartButtonEl.disabled = true;  // To prevent multiple clicks.\n",
              "      quickchartButtonEl.classList.add('colab-df-spinner');\n",
              "      try {\n",
              "        const charts = await google.colab.kernel.invokeFunction(\n",
              "            'suggestCharts', [key], {});\n",
              "      } catch (error) {\n",
              "        console.error('Error during call to suggestCharts:', error);\n",
              "      }\n",
              "      quickchartButtonEl.classList.remove('colab-df-spinner');\n",
              "      quickchartButtonEl.classList.add('colab-df-quickchart-complete');\n",
              "    }\n",
              "    (() => {\n",
              "      let quickchartButtonEl =\n",
              "        document.querySelector('#df-c78193db-0878-4ade-80d0-277e6dd04fa6 button');\n",
              "      quickchartButtonEl.style.display =\n",
              "        google.colab.kernel.accessAllowed ? 'block' : 'none';\n",
              "    })();\n",
              "  </script>\n",
              "</div>\n",
              "\n",
              "    </div>\n",
              "  </div>\n"
            ],
            "text/plain": [
              "   sepal.length  sepal.width  petal.length  petal.width\n",
              "0           5.0          3.0           1.4          0.2\n",
              "1           NaN          NaN           1.5          NaN"
            ]
          },
          "execution_count": 9,
          "metadata": {},
          "output_type": "execute_result"
        }
      ],
      "source": [
        "import pandas as pd\n",
        "path=\"/content/iris (1).csv.xlsx\"\n",
        "df=pd.read_excel(path)\n",
        "df.mode(numeric_only=True)"
      ]
    },
    {
      "cell_type": "code",
      "execution_count": null,
      "metadata": {
        "colab": {
          "base_uri": "https://localhost:8080/"
        },
        "id": "j4XYVaecSV2o",
        "outputId": "3aac1d86-5a04-494a-f3b2-ee6c5e1d718c"
      },
      "outputs": [
        {
          "data": {
            "text/plain": [
              "sepal.length    3.6\n",
              "sepal.width     2.4\n",
              "petal.length    5.9\n",
              "petal.width     2.4\n",
              "dtype: float64"
            ]
          },
          "execution_count": 16,
          "metadata": {},
          "output_type": "execute_result"
        }
      ],
      "source": [
        "df.max(numeric_only=True) - df.min(numeric_only=True)"
      ]
    },
    {
      "cell_type": "code",
      "execution_count": null,
      "metadata": {
        "colab": {
          "base_uri": "https://localhost:8080/"
        },
        "id": "UjuTnqf3TIsn",
        "outputId": "5c4f3ce6-d5b2-4467-c249-07e6c12f3248"
      },
      "outputs": [
        {
          "data": {
            "text/plain": [
              "sepal.length    0.685694\n",
              "sepal.width     0.189979\n",
              "petal.length    3.116278\n",
              "petal.width     0.581006\n",
              "dtype: float64"
            ]
          },
          "execution_count": 17,
          "metadata": {},
          "output_type": "execute_result"
        }
      ],
      "source": [
        "df.var(numeric_only=True)"
      ]
    },
    {
      "cell_type": "code",
      "execution_count": null,
      "metadata": {
        "colab": {
          "base_uri": "https://localhost:8080/"
        },
        "id": "QRDxc1UAUPSH",
        "outputId": "e5e58a0e-5c17-457d-d25d-a4b7967916cb"
      },
      "outputs": [
        {
          "data": {
            "text/plain": [
              "sepal.length    0.828066\n",
              "sepal.width     0.435866\n",
              "petal.length    1.765298\n",
              "petal.width     0.762238\n",
              "dtype: float64"
            ]
          },
          "execution_count": 18,
          "metadata": {},
          "output_type": "execute_result"
        }
      ],
      "source": [
        "df.std(numeric_only=True)"
      ]
    },
    {
      "cell_type": "code",
      "execution_count": null,
      "metadata": {
        "colab": {
          "base_uri": "https://localhost:8080/",
          "height": 175
        },
        "id": "opdFvF_9UUu_",
        "outputId": "3ed0fd81-6508-46c9-bf4c-b0ce36ef3513"
      },
      "outputs": [
        {
          "data": {
            "application/vnd.google.colaboratory.intrinsic+json": {
              "summary": "{\n  \"name\": \"df\",\n  \"rows\": 4,\n  \"fields\": [\n    {\n      \"column\": \"sepal.length\",\n      \"properties\": {\n        \"dtype\": \"number\",\n        \"std\": 0.5420609900120861,\n        \"min\": -0.042434004474272924,\n        \"max\": 1.2743154362416111,\n        \"num_unique_values\": 4,\n        \"samples\": [\n          -0.042434004474272924,\n          0.516270693512304,\n          0.6856935123042504\n        ],\n        \"semantic_type\": \"\",\n        \"description\": \"\"\n      }\n    },\n    {\n      \"column\": \"sepal.width\",\n      \"properties\": {\n        \"dtype\": \"number\",\n        \"std\": 0.2147061719978742,\n        \"min\": -0.3296563758389261,\n        \"max\": 0.18997941834451895,\n        \"num_unique_values\": 4,\n        \"samples\": [\n          0.18997941834451895,\n          -0.12163937360178974,\n          -0.042434004474272924\n        ],\n        \"semantic_type\": \"\",\n        \"description\": \"\"\n      }\n    },\n    {\n      \"column\": \"petal.length\",\n      \"properties\": {\n        \"dtype\": \"number\",\n        \"std\": 1.4082136944573058,\n        \"min\": -0.3296563758389261,\n        \"max\": 3.1162778523489965,\n        \"num_unique_values\": 4,\n        \"samples\": [\n          -0.3296563758389261,\n          1.2956093959731547,\n          1.2743154362416111\n        ],\n        \"semantic_type\": \"\",\n        \"description\": \"\"\n      }\n    },\n    {\n      \"column\": \"petal.width\",\n      \"properties\": {\n        \"dtype\": \"number\",\n        \"std\": 0.5796156315533388,\n        \"min\": -0.12163937360178974,\n        \"max\": 1.2956093959731547,\n        \"num_unique_values\": 4,\n        \"samples\": [\n          -0.12163937360178974,\n          0.5810062639821025,\n          0.516270693512304\n        ],\n        \"semantic_type\": \"\",\n        \"description\": \"\"\n      }\n    }\n  ]\n}",
              "type": "dataframe"
            },
            "text/html": [
              "\n",
              "  <div id=\"df-0ff7b784-00ee-45a5-897d-99dc78f80fe7\" class=\"colab-df-container\">\n",
              "    <div>\n",
              "<style scoped>\n",
              "    .dataframe tbody tr th:only-of-type {\n",
              "        vertical-align: middle;\n",
              "    }\n",
              "\n",
              "    .dataframe tbody tr th {\n",
              "        vertical-align: top;\n",
              "    }\n",
              "\n",
              "    .dataframe thead th {\n",
              "        text-align: right;\n",
              "    }\n",
              "</style>\n",
              "<table border=\"1\" class=\"dataframe\">\n",
              "  <thead>\n",
              "    <tr style=\"text-align: right;\">\n",
              "      <th></th>\n",
              "      <th>sepal.length</th>\n",
              "      <th>sepal.width</th>\n",
              "      <th>petal.length</th>\n",
              "      <th>petal.width</th>\n",
              "    </tr>\n",
              "  </thead>\n",
              "  <tbody>\n",
              "    <tr>\n",
              "      <th>sepal.length</th>\n",
              "      <td>0.685694</td>\n",
              "      <td>-0.042434</td>\n",
              "      <td>1.274315</td>\n",
              "      <td>0.516271</td>\n",
              "    </tr>\n",
              "    <tr>\n",
              "      <th>sepal.width</th>\n",
              "      <td>-0.042434</td>\n",
              "      <td>0.189979</td>\n",
              "      <td>-0.329656</td>\n",
              "      <td>-0.121639</td>\n",
              "    </tr>\n",
              "    <tr>\n",
              "      <th>petal.length</th>\n",
              "      <td>1.274315</td>\n",
              "      <td>-0.329656</td>\n",
              "      <td>3.116278</td>\n",
              "      <td>1.295609</td>\n",
              "    </tr>\n",
              "    <tr>\n",
              "      <th>petal.width</th>\n",
              "      <td>0.516271</td>\n",
              "      <td>-0.121639</td>\n",
              "      <td>1.295609</td>\n",
              "      <td>0.581006</td>\n",
              "    </tr>\n",
              "  </tbody>\n",
              "</table>\n",
              "</div>\n",
              "    <div class=\"colab-df-buttons\">\n",
              "\n",
              "  <div class=\"colab-df-container\">\n",
              "    <button class=\"colab-df-convert\" onclick=\"convertToInteractive('df-0ff7b784-00ee-45a5-897d-99dc78f80fe7')\"\n",
              "            title=\"Convert this dataframe to an interactive table.\"\n",
              "            style=\"display:none;\">\n",
              "\n",
              "  <svg xmlns=\"http://www.w3.org/2000/svg\" height=\"24px\" viewBox=\"0 -960 960 960\">\n",
              "    <path d=\"M120-120v-720h720v720H120Zm60-500h600v-160H180v160Zm220 220h160v-160H400v160Zm0 220h160v-160H400v160ZM180-400h160v-160H180v160Zm440 0h160v-160H620v160ZM180-180h160v-160H180v160Zm440 0h160v-160H620v160Z\"/>\n",
              "  </svg>\n",
              "    </button>\n",
              "\n",
              "  <style>\n",
              "    .colab-df-container {\n",
              "      display:flex;\n",
              "      gap: 12px;\n",
              "    }\n",
              "\n",
              "    .colab-df-convert {\n",
              "      background-color: #E8F0FE;\n",
              "      border: none;\n",
              "      border-radius: 50%;\n",
              "      cursor: pointer;\n",
              "      display: none;\n",
              "      fill: #1967D2;\n",
              "      height: 32px;\n",
              "      padding: 0 0 0 0;\n",
              "      width: 32px;\n",
              "    }\n",
              "\n",
              "    .colab-df-convert:hover {\n",
              "      background-color: #E2EBFA;\n",
              "      box-shadow: 0px 1px 2px rgba(60, 64, 67, 0.3), 0px 1px 3px 1px rgba(60, 64, 67, 0.15);\n",
              "      fill: #174EA6;\n",
              "    }\n",
              "\n",
              "    .colab-df-buttons div {\n",
              "      margin-bottom: 4px;\n",
              "    }\n",
              "\n",
              "    [theme=dark] .colab-df-convert {\n",
              "      background-color: #3B4455;\n",
              "      fill: #D2E3FC;\n",
              "    }\n",
              "\n",
              "    [theme=dark] .colab-df-convert:hover {\n",
              "      background-color: #434B5C;\n",
              "      box-shadow: 0px 1px 3px 1px rgba(0, 0, 0, 0.15);\n",
              "      filter: drop-shadow(0px 1px 2px rgba(0, 0, 0, 0.3));\n",
              "      fill: #FFFFFF;\n",
              "    }\n",
              "  </style>\n",
              "\n",
              "    <script>\n",
              "      const buttonEl =\n",
              "        document.querySelector('#df-0ff7b784-00ee-45a5-897d-99dc78f80fe7 button.colab-df-convert');\n",
              "      buttonEl.style.display =\n",
              "        google.colab.kernel.accessAllowed ? 'block' : 'none';\n",
              "\n",
              "      async function convertToInteractive(key) {\n",
              "        const element = document.querySelector('#df-0ff7b784-00ee-45a5-897d-99dc78f80fe7');\n",
              "        const dataTable =\n",
              "          await google.colab.kernel.invokeFunction('convertToInteractive',\n",
              "                                                    [key], {});\n",
              "        if (!dataTable) return;\n",
              "\n",
              "        const docLinkHtml = 'Like what you see? Visit the ' +\n",
              "          '<a target=\"_blank\" href=https://colab.research.google.com/notebooks/data_table.ipynb>data table notebook</a>'\n",
              "          + ' to learn more about interactive tables.';\n",
              "        element.innerHTML = '';\n",
              "        dataTable['output_type'] = 'display_data';\n",
              "        await google.colab.output.renderOutput(dataTable, element);\n",
              "        const docLink = document.createElement('div');\n",
              "        docLink.innerHTML = docLinkHtml;\n",
              "        element.appendChild(docLink);\n",
              "      }\n",
              "    </script>\n",
              "  </div>\n",
              "\n",
              "\n",
              "<div id=\"df-1f28bf72-a5d1-4e16-a9f3-da7e9ff1d81e\">\n",
              "  <button class=\"colab-df-quickchart\" onclick=\"quickchart('df-1f28bf72-a5d1-4e16-a9f3-da7e9ff1d81e')\"\n",
              "            title=\"Suggest charts\"\n",
              "            style=\"display:none;\">\n",
              "\n",
              "<svg xmlns=\"http://www.w3.org/2000/svg\" height=\"24px\"viewBox=\"0 0 24 24\"\n",
              "     width=\"24px\">\n",
              "    <g>\n",
              "        <path d=\"M19 3H5c-1.1 0-2 .9-2 2v14c0 1.1.9 2 2 2h14c1.1 0 2-.9 2-2V5c0-1.1-.9-2-2-2zM9 17H7v-7h2v7zm4 0h-2V7h2v10zm4 0h-2v-4h2v4z\"/>\n",
              "    </g>\n",
              "</svg>\n",
              "  </button>\n",
              "\n",
              "<style>\n",
              "  .colab-df-quickchart {\n",
              "      --bg-color: #E8F0FE;\n",
              "      --fill-color: #1967D2;\n",
              "      --hover-bg-color: #E2EBFA;\n",
              "      --hover-fill-color: #174EA6;\n",
              "      --disabled-fill-color: #AAA;\n",
              "      --disabled-bg-color: #DDD;\n",
              "  }\n",
              "\n",
              "  [theme=dark] .colab-df-quickchart {\n",
              "      --bg-color: #3B4455;\n",
              "      --fill-color: #D2E3FC;\n",
              "      --hover-bg-color: #434B5C;\n",
              "      --hover-fill-color: #FFFFFF;\n",
              "      --disabled-bg-color: #3B4455;\n",
              "      --disabled-fill-color: #666;\n",
              "  }\n",
              "\n",
              "  .colab-df-quickchart {\n",
              "    background-color: var(--bg-color);\n",
              "    border: none;\n",
              "    border-radius: 50%;\n",
              "    cursor: pointer;\n",
              "    display: none;\n",
              "    fill: var(--fill-color);\n",
              "    height: 32px;\n",
              "    padding: 0;\n",
              "    width: 32px;\n",
              "  }\n",
              "\n",
              "  .colab-df-quickchart:hover {\n",
              "    background-color: var(--hover-bg-color);\n",
              "    box-shadow: 0 1px 2px rgba(60, 64, 67, 0.3), 0 1px 3px 1px rgba(60, 64, 67, 0.15);\n",
              "    fill: var(--button-hover-fill-color);\n",
              "  }\n",
              "\n",
              "  .colab-df-quickchart-complete:disabled,\n",
              "  .colab-df-quickchart-complete:disabled:hover {\n",
              "    background-color: var(--disabled-bg-color);\n",
              "    fill: var(--disabled-fill-color);\n",
              "    box-shadow: none;\n",
              "  }\n",
              "\n",
              "  .colab-df-spinner {\n",
              "    border: 2px solid var(--fill-color);\n",
              "    border-color: transparent;\n",
              "    border-bottom-color: var(--fill-color);\n",
              "    animation:\n",
              "      spin 1s steps(1) infinite;\n",
              "  }\n",
              "\n",
              "  @keyframes spin {\n",
              "    0% {\n",
              "      border-color: transparent;\n",
              "      border-bottom-color: var(--fill-color);\n",
              "      border-left-color: var(--fill-color);\n",
              "    }\n",
              "    20% {\n",
              "      border-color: transparent;\n",
              "      border-left-color: var(--fill-color);\n",
              "      border-top-color: var(--fill-color);\n",
              "    }\n",
              "    30% {\n",
              "      border-color: transparent;\n",
              "      border-left-color: var(--fill-color);\n",
              "      border-top-color: var(--fill-color);\n",
              "      border-right-color: var(--fill-color);\n",
              "    }\n",
              "    40% {\n",
              "      border-color: transparent;\n",
              "      border-right-color: var(--fill-color);\n",
              "      border-top-color: var(--fill-color);\n",
              "    }\n",
              "    60% {\n",
              "      border-color: transparent;\n",
              "      border-right-color: var(--fill-color);\n",
              "    }\n",
              "    80% {\n",
              "      border-color: transparent;\n",
              "      border-right-color: var(--fill-color);\n",
              "      border-bottom-color: var(--fill-color);\n",
              "    }\n",
              "    90% {\n",
              "      border-color: transparent;\n",
              "      border-bottom-color: var(--fill-color);\n",
              "    }\n",
              "  }\n",
              "</style>\n",
              "\n",
              "  <script>\n",
              "    async function quickchart(key) {\n",
              "      const quickchartButtonEl =\n",
              "        document.querySelector('#' + key + ' button');\n",
              "      quickchartButtonEl.disabled = true;  // To prevent multiple clicks.\n",
              "      quickchartButtonEl.classList.add('colab-df-spinner');\n",
              "      try {\n",
              "        const charts = await google.colab.kernel.invokeFunction(\n",
              "            'suggestCharts', [key], {});\n",
              "      } catch (error) {\n",
              "        console.error('Error during call to suggestCharts:', error);\n",
              "      }\n",
              "      quickchartButtonEl.classList.remove('colab-df-spinner');\n",
              "      quickchartButtonEl.classList.add('colab-df-quickchart-complete');\n",
              "    }\n",
              "    (() => {\n",
              "      let quickchartButtonEl =\n",
              "        document.querySelector('#df-1f28bf72-a5d1-4e16-a9f3-da7e9ff1d81e button');\n",
              "      quickchartButtonEl.style.display =\n",
              "        google.colab.kernel.accessAllowed ? 'block' : 'none';\n",
              "    })();\n",
              "  </script>\n",
              "</div>\n",
              "\n",
              "    </div>\n",
              "  </div>\n"
            ],
            "text/plain": [
              "              sepal.length  sepal.width  petal.length  petal.width\n",
              "sepal.length      0.685694    -0.042434      1.274315     0.516271\n",
              "sepal.width      -0.042434     0.189979     -0.329656    -0.121639\n",
              "petal.length      1.274315    -0.329656      3.116278     1.295609\n",
              "petal.width       0.516271    -0.121639      1.295609     0.581006"
            ]
          },
          "execution_count": 19,
          "metadata": {},
          "output_type": "execute_result"
        }
      ],
      "source": [
        "df.cov(numeric_only=True)"
      ]
    },
    {
      "cell_type": "code",
      "execution_count": null,
      "metadata": {
        "colab": {
          "base_uri": "https://localhost:8080/",
          "height": 175
        },
        "id": "xyOfdS40UYmv",
        "outputId": "15a85283-e8eb-4d3a-a28b-45afe3a8f4b6"
      },
      "outputs": [
        {
          "data": {
            "application/vnd.google.colaboratory.intrinsic+json": {
              "summary": "{\n  \"name\": \"df\",\n  \"rows\": 4,\n  \"fields\": [\n    {\n      \"column\": \"sepal.length\",\n      \"properties\": {\n        \"dtype\": \"number\",\n        \"std\": 0.5127858813273581,\n        \"min\": -0.11756978413300088,\n        \"max\": 1.0,\n        \"num_unique_values\": 4,\n        \"samples\": [\n          -0.11756978413300088,\n          0.8179411262715758,\n          1.0\n        ],\n        \"semantic_type\": \"\",\n        \"description\": \"\"\n      }\n    },\n    {\n      \"column\": \"sepal.width\",\n      \"properties\": {\n        \"dtype\": \"number\",\n        \"std\": 0.6657080809503223,\n        \"min\": -0.42844010433053864,\n        \"max\": 1.0,\n        \"num_unique_values\": 4,\n        \"samples\": [\n          1.0,\n          -0.3661259325364377,\n          -0.11756978413300088\n        ],\n        \"semantic_type\": \"\",\n        \"description\": \"\"\n      }\n    },\n    {\n      \"column\": \"petal.length\",\n      \"properties\": {\n        \"dtype\": \"number\",\n        \"std\": 0.6887672414981271,\n        \"min\": -0.42844010433053864,\n        \"max\": 1.0,\n        \"num_unique_values\": 4,\n        \"samples\": [\n          -0.42844010433053864,\n          0.962865431402796,\n          0.8717537758865838\n        ],\n        \"semantic_type\": \"\",\n        \"description\": \"\"\n      }\n    },\n    {\n      \"column\": \"petal.width\",\n      \"properties\": {\n        \"dtype\": \"number\",\n        \"std\": 0.6512846518377995,\n        \"min\": -0.3661259325364377,\n        \"max\": 1.0,\n        \"num_unique_values\": 4,\n        \"samples\": [\n          -0.3661259325364377,\n          1.0,\n          0.8179411262715758\n        ],\n        \"semantic_type\": \"\",\n        \"description\": \"\"\n      }\n    }\n  ]\n}",
              "type": "dataframe"
            },
            "text/html": [
              "\n",
              "  <div id=\"df-4d1e7a01-413d-4260-980f-8725f25c3ad1\" class=\"colab-df-container\">\n",
              "    <div>\n",
              "<style scoped>\n",
              "    .dataframe tbody tr th:only-of-type {\n",
              "        vertical-align: middle;\n",
              "    }\n",
              "\n",
              "    .dataframe tbody tr th {\n",
              "        vertical-align: top;\n",
              "    }\n",
              "\n",
              "    .dataframe thead th {\n",
              "        text-align: right;\n",
              "    }\n",
              "</style>\n",
              "<table border=\"1\" class=\"dataframe\">\n",
              "  <thead>\n",
              "    <tr style=\"text-align: right;\">\n",
              "      <th></th>\n",
              "      <th>sepal.length</th>\n",
              "      <th>sepal.width</th>\n",
              "      <th>petal.length</th>\n",
              "      <th>petal.width</th>\n",
              "    </tr>\n",
              "  </thead>\n",
              "  <tbody>\n",
              "    <tr>\n",
              "      <th>sepal.length</th>\n",
              "      <td>1.000000</td>\n",
              "      <td>-0.117570</td>\n",
              "      <td>0.871754</td>\n",
              "      <td>0.817941</td>\n",
              "    </tr>\n",
              "    <tr>\n",
              "      <th>sepal.width</th>\n",
              "      <td>-0.117570</td>\n",
              "      <td>1.000000</td>\n",
              "      <td>-0.428440</td>\n",
              "      <td>-0.366126</td>\n",
              "    </tr>\n",
              "    <tr>\n",
              "      <th>petal.length</th>\n",
              "      <td>0.871754</td>\n",
              "      <td>-0.428440</td>\n",
              "      <td>1.000000</td>\n",
              "      <td>0.962865</td>\n",
              "    </tr>\n",
              "    <tr>\n",
              "      <th>petal.width</th>\n",
              "      <td>0.817941</td>\n",
              "      <td>-0.366126</td>\n",
              "      <td>0.962865</td>\n",
              "      <td>1.000000</td>\n",
              "    </tr>\n",
              "  </tbody>\n",
              "</table>\n",
              "</div>\n",
              "    <div class=\"colab-df-buttons\">\n",
              "\n",
              "  <div class=\"colab-df-container\">\n",
              "    <button class=\"colab-df-convert\" onclick=\"convertToInteractive('df-4d1e7a01-413d-4260-980f-8725f25c3ad1')\"\n",
              "            title=\"Convert this dataframe to an interactive table.\"\n",
              "            style=\"display:none;\">\n",
              "\n",
              "  <svg xmlns=\"http://www.w3.org/2000/svg\" height=\"24px\" viewBox=\"0 -960 960 960\">\n",
              "    <path d=\"M120-120v-720h720v720H120Zm60-500h600v-160H180v160Zm220 220h160v-160H400v160Zm0 220h160v-160H400v160ZM180-400h160v-160H180v160Zm440 0h160v-160H620v160ZM180-180h160v-160H180v160Zm440 0h160v-160H620v160Z\"/>\n",
              "  </svg>\n",
              "    </button>\n",
              "\n",
              "  <style>\n",
              "    .colab-df-container {\n",
              "      display:flex;\n",
              "      gap: 12px;\n",
              "    }\n",
              "\n",
              "    .colab-df-convert {\n",
              "      background-color: #E8F0FE;\n",
              "      border: none;\n",
              "      border-radius: 50%;\n",
              "      cursor: pointer;\n",
              "      display: none;\n",
              "      fill: #1967D2;\n",
              "      height: 32px;\n",
              "      padding: 0 0 0 0;\n",
              "      width: 32px;\n",
              "    }\n",
              "\n",
              "    .colab-df-convert:hover {\n",
              "      background-color: #E2EBFA;\n",
              "      box-shadow: 0px 1px 2px rgba(60, 64, 67, 0.3), 0px 1px 3px 1px rgba(60, 64, 67, 0.15);\n",
              "      fill: #174EA6;\n",
              "    }\n",
              "\n",
              "    .colab-df-buttons div {\n",
              "      margin-bottom: 4px;\n",
              "    }\n",
              "\n",
              "    [theme=dark] .colab-df-convert {\n",
              "      background-color: #3B4455;\n",
              "      fill: #D2E3FC;\n",
              "    }\n",
              "\n",
              "    [theme=dark] .colab-df-convert:hover {\n",
              "      background-color: #434B5C;\n",
              "      box-shadow: 0px 1px 3px 1px rgba(0, 0, 0, 0.15);\n",
              "      filter: drop-shadow(0px 1px 2px rgba(0, 0, 0, 0.3));\n",
              "      fill: #FFFFFF;\n",
              "    }\n",
              "  </style>\n",
              "\n",
              "    <script>\n",
              "      const buttonEl =\n",
              "        document.querySelector('#df-4d1e7a01-413d-4260-980f-8725f25c3ad1 button.colab-df-convert');\n",
              "      buttonEl.style.display =\n",
              "        google.colab.kernel.accessAllowed ? 'block' : 'none';\n",
              "\n",
              "      async function convertToInteractive(key) {\n",
              "        const element = document.querySelector('#df-4d1e7a01-413d-4260-980f-8725f25c3ad1');\n",
              "        const dataTable =\n",
              "          await google.colab.kernel.invokeFunction('convertToInteractive',\n",
              "                                                    [key], {});\n",
              "        if (!dataTable) return;\n",
              "\n",
              "        const docLinkHtml = 'Like what you see? Visit the ' +\n",
              "          '<a target=\"_blank\" href=https://colab.research.google.com/notebooks/data_table.ipynb>data table notebook</a>'\n",
              "          + ' to learn more about interactive tables.';\n",
              "        element.innerHTML = '';\n",
              "        dataTable['output_type'] = 'display_data';\n",
              "        await google.colab.output.renderOutput(dataTable, element);\n",
              "        const docLink = document.createElement('div');\n",
              "        docLink.innerHTML = docLinkHtml;\n",
              "        element.appendChild(docLink);\n",
              "      }\n",
              "    </script>\n",
              "  </div>\n",
              "\n",
              "\n",
              "<div id=\"df-86b730cd-18b3-4237-ba60-1ed9a41e95bd\">\n",
              "  <button class=\"colab-df-quickchart\" onclick=\"quickchart('df-86b730cd-18b3-4237-ba60-1ed9a41e95bd')\"\n",
              "            title=\"Suggest charts\"\n",
              "            style=\"display:none;\">\n",
              "\n",
              "<svg xmlns=\"http://www.w3.org/2000/svg\" height=\"24px\"viewBox=\"0 0 24 24\"\n",
              "     width=\"24px\">\n",
              "    <g>\n",
              "        <path d=\"M19 3H5c-1.1 0-2 .9-2 2v14c0 1.1.9 2 2 2h14c1.1 0 2-.9 2-2V5c0-1.1-.9-2-2-2zM9 17H7v-7h2v7zm4 0h-2V7h2v10zm4 0h-2v-4h2v4z\"/>\n",
              "    </g>\n",
              "</svg>\n",
              "  </button>\n",
              "\n",
              "<style>\n",
              "  .colab-df-quickchart {\n",
              "      --bg-color: #E8F0FE;\n",
              "      --fill-color: #1967D2;\n",
              "      --hover-bg-color: #E2EBFA;\n",
              "      --hover-fill-color: #174EA6;\n",
              "      --disabled-fill-color: #AAA;\n",
              "      --disabled-bg-color: #DDD;\n",
              "  }\n",
              "\n",
              "  [theme=dark] .colab-df-quickchart {\n",
              "      --bg-color: #3B4455;\n",
              "      --fill-color: #D2E3FC;\n",
              "      --hover-bg-color: #434B5C;\n",
              "      --hover-fill-color: #FFFFFF;\n",
              "      --disabled-bg-color: #3B4455;\n",
              "      --disabled-fill-color: #666;\n",
              "  }\n",
              "\n",
              "  .colab-df-quickchart {\n",
              "    background-color: var(--bg-color);\n",
              "    border: none;\n",
              "    border-radius: 50%;\n",
              "    cursor: pointer;\n",
              "    display: none;\n",
              "    fill: var(--fill-color);\n",
              "    height: 32px;\n",
              "    padding: 0;\n",
              "    width: 32px;\n",
              "  }\n",
              "\n",
              "  .colab-df-quickchart:hover {\n",
              "    background-color: var(--hover-bg-color);\n",
              "    box-shadow: 0 1px 2px rgba(60, 64, 67, 0.3), 0 1px 3px 1px rgba(60, 64, 67, 0.15);\n",
              "    fill: var(--button-hover-fill-color);\n",
              "  }\n",
              "\n",
              "  .colab-df-quickchart-complete:disabled,\n",
              "  .colab-df-quickchart-complete:disabled:hover {\n",
              "    background-color: var(--disabled-bg-color);\n",
              "    fill: var(--disabled-fill-color);\n",
              "    box-shadow: none;\n",
              "  }\n",
              "\n",
              "  .colab-df-spinner {\n",
              "    border: 2px solid var(--fill-color);\n",
              "    border-color: transparent;\n",
              "    border-bottom-color: var(--fill-color);\n",
              "    animation:\n",
              "      spin 1s steps(1) infinite;\n",
              "  }\n",
              "\n",
              "  @keyframes spin {\n",
              "    0% {\n",
              "      border-color: transparent;\n",
              "      border-bottom-color: var(--fill-color);\n",
              "      border-left-color: var(--fill-color);\n",
              "    }\n",
              "    20% {\n",
              "      border-color: transparent;\n",
              "      border-left-color: var(--fill-color);\n",
              "      border-top-color: var(--fill-color);\n",
              "    }\n",
              "    30% {\n",
              "      border-color: transparent;\n",
              "      border-left-color: var(--fill-color);\n",
              "      border-top-color: var(--fill-color);\n",
              "      border-right-color: var(--fill-color);\n",
              "    }\n",
              "    40% {\n",
              "      border-color: transparent;\n",
              "      border-right-color: var(--fill-color);\n",
              "      border-top-color: var(--fill-color);\n",
              "    }\n",
              "    60% {\n",
              "      border-color: transparent;\n",
              "      border-right-color: var(--fill-color);\n",
              "    }\n",
              "    80% {\n",
              "      border-color: transparent;\n",
              "      border-right-color: var(--fill-color);\n",
              "      border-bottom-color: var(--fill-color);\n",
              "    }\n",
              "    90% {\n",
              "      border-color: transparent;\n",
              "      border-bottom-color: var(--fill-color);\n",
              "    }\n",
              "  }\n",
              "</style>\n",
              "\n",
              "  <script>\n",
              "    async function quickchart(key) {\n",
              "      const quickchartButtonEl =\n",
              "        document.querySelector('#' + key + ' button');\n",
              "      quickchartButtonEl.disabled = true;  // To prevent multiple clicks.\n",
              "      quickchartButtonEl.classList.add('colab-df-spinner');\n",
              "      try {\n",
              "        const charts = await google.colab.kernel.invokeFunction(\n",
              "            'suggestCharts', [key], {});\n",
              "      } catch (error) {\n",
              "        console.error('Error during call to suggestCharts:', error);\n",
              "      }\n",
              "      quickchartButtonEl.classList.remove('colab-df-spinner');\n",
              "      quickchartButtonEl.classList.add('colab-df-quickchart-complete');\n",
              "    }\n",
              "    (() => {\n",
              "      let quickchartButtonEl =\n",
              "        document.querySelector('#df-86b730cd-18b3-4237-ba60-1ed9a41e95bd button');\n",
              "      quickchartButtonEl.style.display =\n",
              "        google.colab.kernel.accessAllowed ? 'block' : 'none';\n",
              "    })();\n",
              "  </script>\n",
              "</div>\n",
              "\n",
              "    </div>\n",
              "  </div>\n"
            ],
            "text/plain": [
              "              sepal.length  sepal.width  petal.length  petal.width\n",
              "sepal.length      1.000000    -0.117570      0.871754     0.817941\n",
              "sepal.width      -0.117570     1.000000     -0.428440    -0.366126\n",
              "petal.length      0.871754    -0.428440      1.000000     0.962865\n",
              "petal.width       0.817941    -0.366126      0.962865     1.000000"
            ]
          },
          "execution_count": 21,
          "metadata": {},
          "output_type": "execute_result"
        }
      ],
      "source": [
        "df.corr(numeric_only=True)"
      ]
    },
    {
      "cell_type": "code",
      "execution_count": null,
      "metadata": {
        "colab": {
          "base_uri": "https://localhost:8080/"
        },
        "id": "GZ6trMxB-tCD",
        "outputId": "58e27312-969b-4805-afdd-29aa0160a8e5"
      },
      "outputs": [
        {
          "name": "stdout",
          "output_type": "stream",
          "text": [
            "t-test\n",
            "T_statistic: 36.463283934449116\n",
            "p_value: 7.027919392009369e-112\n"
          ]
        }
      ],
      "source": [
        "import pandas as pd\n",
        "from scipy import stats\n",
        "df=pd.read_excel(\"/content/iris (1).csv.xlsx\")\n",
        "t_statistic, p_value = stats.ttest_ind(df['sepal.length'], df['sepal.width'])\n",
        "print(\"t-test\")\n",
        "print(\"T_statistic:\",t_statistic)\n",
        "print(\"p_value:\",p_value)"
      ]
    },
    {
      "cell_type": "code",
      "execution_count": null,
      "metadata": {
        "colab": {
          "base_uri": "https://localhost:8080/"
        },
        "id": "SbJEI2XlGJKK",
        "outputId": "3401a883-6fc4-424f-f8be-87754386ff62"
      },
      "outputs": [
        {
          "name": "stdout",
          "output_type": "stream",
          "text": [
            "kruskal-wallis test\n",
            "H_statistic: 224.44246874951114\n",
            "p_value: 9.714284161202739e-51\n"
          ]
        }
      ],
      "source": [
        "import pandas as pd\n",
        "from scipy import stats\n",
        "df=pd.read_excel(\"/content/iris (1).csv.xlsx\")\n",
        "h_statistic, p_value = stats.kruskal(df['sepal.length'], df['sepal.width'])\n",
        "print(\"kruskal-wallis test\")\n",
        "print(\"H_statistic:\",h_statistic)\n",
        "print(\"p_value:\",p_value)"
      ]
    },
    {
      "cell_type": "code",
      "execution_count": null,
      "metadata": {
        "colab": {
          "base_uri": "https://localhost:8080/"
        },
        "id": "ZrGDE6RPHaqz",
        "outputId": "4981e1a3-de04-40fe-b25f-222c7aa26f52"
      },
      "outputs": [
        {
          "name": "stdout",
          "output_type": "stream",
          "text": [
            "wilcoxon rank-sum test\n",
            "U_statistic: 22497.5\n",
            "p_value: 9.812123178858578e-51\n"
          ]
        }
      ],
      "source": [
        "import pandas as pd\n",
        "from scipy import stats\n",
        "df=pd.read_excel(\"/content/iris (1).csv.xlsx\")\n",
        "u_statistic, p_value = stats.mannwhitneyu(df['sepal.length'], df['sepal.width'])\n",
        "print(\"wilcoxon rank-sum test\")\n",
        "print(\"U_statistic:\",u_statistic)\n",
        "print(\"p_value:\",p_value)"
      ]
    },
    {
      "cell_type": "code",
      "execution_count": null,
      "metadata": {
        "colab": {
          "base_uri": "https://localhost:8080/"
        },
        "id": "GRg6FQmULlPP",
        "outputId": "b60592bb-a664-4505-bd84-9aab65391e94"
      },
      "outputs": [
        {
          "name": "stdout",
          "output_type": "stream",
          "text": [
            "one-way ANOVA\n",
            "F_statistic: 1329.571075284254\n",
            "p_value: 7.027919392009998e-112\n"
          ]
        }
      ],
      "source": [
        "import pandas as pd\n",
        "from scipy import stats\n",
        "df=pd.read_excel(\"/content/iris (1).csv.xlsx\")\n",
        "f_statistic, p_value = stats.f_oneway(df['sepal.length'], df['sepal.width'])\n",
        "print(\"one-way ANOVA\")\n",
        "print(\"F_statistic:\",f_statistic)\n",
        "print(\"p_value:\",p_value)"
      ]
    },
    {
      "cell_type": "code",
      "execution_count": null,
      "metadata": {
        "colab": {
          "base_uri": "https://localhost:8080/"
        },
        "id": "-7tcsC51N-eD",
        "outputId": "88729b69-67b3-45d7-9c1b-e684099d3a6d"
      },
      "outputs": [
        {
          "name": "stdout",
          "output_type": "stream",
          "text": [
            "chi-square test\n",
            "chi_statistic: 13.475202786622289\n",
            "p_value: 1.0\n"
          ]
        }
      ],
      "source": [
        "import pandas as pd\n",
        "from scipy import stats\n",
        "df=pd.read_excel(\"/content/iris (1).csv.xlsx\")\n",
        "chi_statistic, p_value, dof, expected = stats.chi2_contingency(df[['sepal.length', 'sepal.width']])\n",
        "print(\"chi-square test\")\n",
        "print(\"chi_statistic:\",chi_statistic)\n",
        "print(\"p_value:\", p_value)"
      ]
    },
    {
      "cell_type": "code",
      "execution_count": null,
      "metadata": {
        "colab": {
          "base_uri": "https://localhost:8080/",
          "height": 449
        },
        "id": "o0-TD_wJUlse",
        "outputId": "d1221d03-9677-4ce5-b6bb-b37281f573c9"
      },
      "outputs": [
        {
          "data": {
            "image/png": "[encoded data removed]",
            "text/plain": [
              "<Figure size 640x480 with 1 Axes>"
            ]
          },
          "metadata": {},
          "output_type": "display_data"
        }
      ],
      "source": [
        "import pandas as pd\n",
        "df=pd.read_excel(\"/content/iris (1).csv.xlsx\")\n",
        "import matplotlib.pyplot as plt\n",
        "plt.bar(df['sepal.length'],df['sepal.width'])\n",
        "plt.xlabel(\"sepal.length\")\n",
        "plt.ylabel(\"sepal.width\")\n",
        "plt.show()"
      ]
    },
    {
      "cell_type": "code",
      "execution_count": null,
      "metadata": {
        "colab": {
          "base_uri": "https://localhost:8080/",
          "height": 430
        },
        "id": "Tkx87_PVU_X_",
        "outputId": "14e70499-fc0e-4549-a22e-b69ea7c26538"
      },
      "outputs": [
        {
          "data": {
            "image/png": "[encoded data removed]",
            "text/plain": [
              "<Figure size 640x480 with 1 Axes>"
            ]
          },
          "metadata": {},
          "output_type": "display_data"
        }
      ],
      "source": [
        "import pandas as pd\n",
        "df=pd.read_excel(\"/content/iris (1).csv.xlsx\")\n",
        "import matplotlib.pyplot as plt\n",
        "df.boxplot('sepal.length')\n",
        "plt.show()"
      ]
    },
    {
      "cell_type": "code",
      "execution_count": null,
      "metadata": {
        "colab": {
          "base_uri": "https://localhost:8080/",
          "height": 411
        },
        "id": "mlknZb6cVLg2",
        "outputId": "68e521fc-0a41-4965-8b3d-a06d0f18effa"
      },
      "outputs": [
        {
          "data": {
            "image/png": "[encoded data removed]",
            "text/plain": [
              "<Figure size 640x480 with 1 Axes>"
            ]
          },
          "metadata": {},
          "output_type": "display_data"
        }
      ],
      "source": [
        "import pandas as pd\n",
        "import seaborn as sns\n",
        "df=pd.read_excel(\"/content/iris (1).csv.xlsx\")\n",
        "import matplotlib.pyplot as plt\n",
        "sns.violinplot(df['sepal.length'])\n",
        "plt.show()"
      ]
    },
    {
      "cell_type": "code",
      "execution_count": null,
      "metadata": {
        "colab": {
          "base_uri": "https://localhost:8080/",
          "height": 435
        },
        "id": "LT3Y1lnGt6_-",
        "outputId": "3ba7e1f0-3b4a-4f34-897f-cd26fec160ed"
      },
      "outputs": [
        {
          "data": {
            "image/png": "[encoded data removed]",
            "text/plain": [
              "<Figure size 640x480 with 2 Axes>"
            ]
          },
          "metadata": {},
          "output_type": "display_data"
        }
      ],
      "source": [
        "import pandas as pd\n",
        "import matplotlib.pyplot as plt\n",
        "import seaborn as sns\n",
        "df=pd.read_excel(\"/content/iris (1).csv.xlsx\")\n",
        "\n",
        "# Calculate the correlation matrix\n",
        "corr_matrix = df.corr(numeric_only=True)\n",
        "\n",
        "# Use seaborn to create the heatmap\n",
        "sns.heatmap(corr_matrix, annot=True)\n",
        "plt.show()"
      ]
    },
    {
      "cell_type": "code",
      "execution_count": null,
      "metadata": {
        "colab": {
          "base_uri": "https://localhost:8080/",
          "height": 775
        },
        "id": "xvGnHLjguCtl",
        "outputId": "7ea55869-26a9-41f0-8947-8ed960e09cdc"
      },
      "outputs": [
        {
          "data": {
            "text/plain": [
              "<seaborn.axisgrid.PairGrid at 0x7d73df0bf7c0>"
            ]
          },
          "execution_count": 14,
          "metadata": {},
          "output_type": "execute_result"
        },
        {
          "data": {
            "image/png": "[encoded data removed]",
            "text/plain": [
              "<Figure size 750x750 with 12 Axes>"
            ]
          },
          "metadata": {},
          "output_type": "display_data"
        }
      ],
      "source": [
        "import pandas as pd\n",
        "import matplotlib.pyplot as plt\n",
        "import seaborn as sns\n",
        "df=pd.read_excel(\"/content/iris (1).csv.xlsx\")\n",
        "sns.pairplot(df, vars=['sepal.length', 'sepal.width', 'petal.length'])\n"
      ]
    },
    {
      "cell_type": "code",
      "execution_count": null,
      "metadata": {
        "colab": {
          "base_uri": "https://localhost:8080/",
          "height": 452
        },
        "id": "loRQUHrAvCDC",
        "outputId": "d6f4e270-81a5-4646-a2b7-b238c27cd45f"
      },
      "outputs": [
        {
          "data": {
            "image/png": "[encoded data removed]",
            "text/plain": [
              "<Figure size 640x480 with 1 Axes>"
            ]
          },
          "metadata": {},
          "output_type": "display_data"
        }
      ],
      "source": [
        "import pandas as pd\n",
        "df=pd.read_excel(\"/content/iris (1).csv.xlsx\")\n",
        "import matplotlib.pyplot as plt\n",
        "plt.scatter(df['sepal.length'],df['sepal.width'])\n",
        "plt.xlabel(\"sepal.length\")\n",
        "plt.ylabel(\"sepal.width\")\n",
        "plt.show()"
      ]
    },
    {
      "cell_type": "code",
      "execution_count": null,
      "metadata": {
        "colab": {
          "base_uri": "https://localhost:8080/"
        },
        "id": "cMsYaG-FWD4Q",
        "outputId": "4d755920-957e-44c7-98f4-d31e37c3538d"
      },
      "outputs": [
        {
          "name": "stdout",
          "output_type": "stream",
          "text": [
            "               City          Suburb  Sales 2Q 2023  Median 2Q 2023  \\\n",
            "0          ADELAIDE        ADELAIDE            4.0        978000.0   \n",
            "1          ADELAIDE  NORTH ADELAIDE            3.0       1080000.0   \n",
            "2    ADELAIDE HILLS         ALDGATE           11.0       1119045.0   \n",
            "3    ADELAIDE HILLS          ASHTON            NaN             NaN   \n",
            "4    ADELAIDE HILLS       BALHANNAH            1.0        635000.0   \n",
            "..              ...             ...            ...             ...   \n",
            "477    WEST TORRENS       THEBARTON            4.0        875000.0   \n",
            "478    WEST TORRENS    TORRENSVILLE           13.0       1058128.0   \n",
            "479    WEST TORRENS       UNDERDALE            3.0       1104000.0   \n",
            "480    WEST TORRENS      WEST BEACH           21.0       1082000.0   \n",
            "481    WEST TORRENS   WEST RICHMOND            3.0        580000.0   \n",
            "\n",
            "     Sales 2Q 2024  Median 2Q 2024  Median Change  \n",
            "0              7.0       1750000.0       0.789366  \n",
            "1              6.0       1325000.0       0.226852  \n",
            "2             10.0       1240000.0       0.108088  \n",
            "3              2.0        850500.0            NaN  \n",
            "4              8.0        892500.0       0.405512  \n",
            "..             ...             ...            ...  \n",
            "477            4.0       1027500.0       0.174286  \n",
            "478           12.0       1037000.0      -0.019967  \n",
            "479            8.0       1070000.0      -0.030797  \n",
            "480           12.0       1250000.0       0.155268  \n",
            "481            2.0        790000.0       0.362069  \n",
            "\n",
            "[482 rows x 7 columns]\n"
          ]
        }
      ],
      "source": [
        "import pandas as pd\n",
        "path=\"/content/lsg_stats_2024_q2.xlsx\"\n",
        "df=pd.read_excel(path)\n",
        "print(df)"
      ]
    },
    {
      "cell_type": "code",
      "execution_count": null,
      "metadata": {
        "colab": {
          "base_uri": "https://localhost:8080/"
        },
        "id": "RczAofxzWINE",
        "outputId": "83cdb25e-500b-467a-b5a6-51c364ababfc"
      },
      "outputs": [
        {
          "data": {
            "text/plain": [
              "Sales 2Q 2023     1.177694e+01\n",
              "Median 2Q 2023    9.205435e+05\n",
              "Sales 2Q 2024     1.271756e+01\n",
              "Median 2Q 2024    1.043435e+06\n",
              "Median Change     1.772568e-01\n",
              "dtype: float64"
            ]
          },
          "execution_count": 2,
          "metadata": {},
          "output_type": "execute_result"
        }
      ],
      "source": [
        "df.mean(numeric_only=True)"
      ]
    },
    {
      "cell_type": "code",
      "execution_count": null,
      "metadata": {
        "colab": {
          "base_uri": "https://localhost:8080/"
        },
        "id": "qeaxKAw7WQk_",
        "outputId": "7ce26383-ae66-48a3-c522-182f94d623d5"
      },
      "outputs": [
        {
          "data": {
            "text/plain": [
              "Sales 2Q 2023          8.000000\n",
              "Median 2Q 2023    780700.000000\n",
              "Sales 2Q 2024          9.000000\n",
              "Median 2Q 2024    892500.000000\n",
              "Median Change          0.157749\n",
              "dtype: float64"
            ]
          },
          "execution_count": 3,
          "metadata": {},
          "output_type": "execute_result"
        }
      ],
      "source": [
        "df.median(numeric_only=True)"
      ]
    },
    {
      "cell_type": "code",
      "execution_count": null,
      "metadata": {
        "colab": {
          "base_uri": "https://localhost:8080/",
          "height": 135
        },
        "id": "gS-plllbWT5d",
        "outputId": "e50ba264-1c46-446f-b199-54a70f03369c"
      },
      "outputs": [
        {
          "data": {
            "application/vnd.google.colaboratory.intrinsic+json": {
              "summary": "{\n  \"name\": \"df\",\n  \"rows\": 1,\n  \"fields\": [\n    {\n      \"column\": \"Sales 2Q 2023\",\n      \"properties\": {\n        \"dtype\": \"number\",\n        \"std\": null,\n        \"min\": 1.0,\n        \"max\": 1.0,\n        \"num_unique_values\": 1,\n        \"samples\": [\n          1.0\n        ],\n        \"semantic_type\": \"\",\n        \"description\": \"\"\n      }\n    },\n    {\n      \"column\": \"Median 2Q 2023\",\n      \"properties\": {\n        \"dtype\": \"number\",\n        \"std\": null,\n        \"min\": 660000.0,\n        \"max\": 660000.0,\n        \"num_unique_values\": 1,\n        \"samples\": [\n          660000.0\n        ],\n        \"semantic_type\": \"\",\n        \"description\": \"\"\n      }\n    },\n    {\n      \"column\": \"Sales 2Q 2024\",\n      \"properties\": {\n        \"dtype\": \"number\",\n        \"std\": null,\n        \"min\": 2.0,\n        \"max\": 2.0,\n        \"num_unique_values\": 1,\n        \"samples\": [\n          2.0\n        ],\n        \"semantic_type\": \"\",\n        \"description\": \"\"\n      }\n    },\n    {\n      \"column\": \"Median 2Q 2024\",\n      \"properties\": {\n        \"dtype\": \"number\",\n        \"std\": null,\n        \"min\": 755000.0,\n        \"max\": 755000.0,\n        \"num_unique_values\": 1,\n        \"samples\": [\n          755000.0\n        ],\n        \"semantic_type\": \"\",\n        \"description\": \"\"\n      }\n    },\n    {\n      \"column\": \"Median Change\",\n      \"properties\": {\n        \"dtype\": \"number\",\n        \"std\": null,\n        \"min\": 0.12784313725490196,\n        \"max\": 0.12784313725490196,\n        \"num_unique_values\": 1,\n        \"samples\": [\n          0.12784313725490196\n        ],\n        \"semantic_type\": \"\",\n        \"description\": \"\"\n      }\n    }\n  ]\n}",
              "type": "dataframe"
            },
            "text/html": [
              "\n",
              "  <div id=\"df-93a32a3d-1d25-445b-af98-8392d2437466\" class=\"colab-df-container\">\n",
              "    <div>\n",
              "<style scoped>\n",
              "    .dataframe tbody tr th:only-of-type {\n",
              "        vertical-align: middle;\n",
              "    }\n",
              "\n",
              "    .dataframe tbody tr th {\n",
              "        vertical-align: top;\n",
              "    }\n",
              "\n",
              "    .dataframe thead th {\n",
              "        text-align: right;\n",
              "    }\n",
              "</style>\n",
              "<table border=\"1\" class=\"dataframe\">\n",
              "  <thead>\n",
              "    <tr style=\"text-align: right;\">\n",
              "      <th></th>\n",
              "      <th>Sales 2Q 2023</th>\n",
              "      <th>Median 2Q 2023</th>\n",
              "      <th>Sales 2Q 2024</th>\n",
              "      <th>Median 2Q 2024</th>\n",
              "      <th>Median Change</th>\n",
              "    </tr>\n",
              "  </thead>\n",
              "  <tbody>\n",
              "    <tr>\n",
              "      <th>0</th>\n",
              "      <td>1.0</td>\n",
              "      <td>660000.0</td>\n",
              "      <td>2.0</td>\n",
              "      <td>755000.0</td>\n",
              "      <td>0.127843</td>\n",
              "    </tr>\n",
              "  </tbody>\n",
              "</table>\n",
              "</div>\n",
              "    <div class=\"colab-df-buttons\">\n",
              "\n",
              "  <div class=\"colab-df-container\">\n",
              "    <button class=\"colab-df-convert\" onclick=\"convertToInteractive('df-93a32a3d-1d25-445b-af98-8392d2437466')\"\n",
              "            title=\"Convert this dataframe to an interactive table.\"\n",
              "            style=\"display:none;\">\n",
              "\n",
              "  <svg xmlns=\"http://www.w3.org/2000/svg\" height=\"24px\" viewBox=\"0 -960 960 960\">\n",
              "    <path d=\"M120-120v-720h720v720H120Zm60-500h600v-160H180v160Zm220 220h160v-160H400v160Zm0 220h160v-160H400v160ZM180-400h160v-160H180v160Zm440 0h160v-160H620v160ZM180-180h160v-160H180v160Zm440 0h160v-160H620v160Z\"/>\n",
              "  </svg>\n",
              "    </button>\n",
              "\n",
              "  <style>\n",
              "    .colab-df-container {\n",
              "      display:flex;\n",
              "      gap: 12px;\n",
              "    }\n",
              "\n",
              "    .colab-df-convert {\n",
              "      background-color: #E8F0FE;\n",
              "      border: none;\n",
              "      border-radius: 50%;\n",
              "      cursor: pointer;\n",
              "      display: none;\n",
              "      fill: #1967D2;\n",
              "      height: 32px;\n",
              "      padding: 0 0 0 0;\n",
              "      width: 32px;\n",
              "    }\n",
              "\n",
              "    .colab-df-convert:hover {\n",
              "      background-color: #E2EBFA;\n",
              "      box-shadow: 0px 1px 2px rgba(60, 64, 67, 0.3), 0px 1px 3px 1px rgba(60, 64, 67, 0.15);\n",
              "      fill: #174EA6;\n",
              "    }\n",
              "\n",
              "    .colab-df-buttons div {\n",
              "      margin-bottom: 4px;\n",
              "    }\n",
              "\n",
              "    [theme=dark] .colab-df-convert {\n",
              "      background-color: #3B4455;\n",
              "      fill: #D2E3FC;\n",
              "    }\n",
              "\n",
              "    [theme=dark] .colab-df-convert:hover {\n",
              "      background-color: #434B5C;\n",
              "      box-shadow: 0px 1px 3px 1px rgba(0, 0, 0, 0.15);\n",
              "      filter: drop-shadow(0px 1px 2px rgba(0, 0, 0, 0.3));\n",
              "      fill: #FFFFFF;\n",
              "    }\n",
              "  </style>\n",
              "\n",
              "    <script>\n",
              "      const buttonEl =\n",
              "        document.querySelector('#df-93a32a3d-1d25-445b-af98-8392d2437466 button.colab-df-convert');\n",
              "      buttonEl.style.display =\n",
              "        google.colab.kernel.accessAllowed ? 'block' : 'none';\n",
              "\n",
              "      async function convertToInteractive(key) {\n",
              "        const element = document.querySelector('#df-93a32a3d-1d25-445b-af98-8392d2437466');\n",
              "        const dataTable =\n",
              "          await google.colab.kernel.invokeFunction('convertToInteractive',\n",
              "                                                    [key], {});\n",
              "        if (!dataTable) return;\n",
              "\n",
              "        const docLinkHtml = 'Like what you see? Visit the ' +\n",
              "          '<a target=\"_blank\" href=https://colab.research.google.com/notebooks/data_table.ipynb>data table notebook</a>'\n",
              "          + ' to learn more about interactive tables.';\n",
              "        element.innerHTML = '';\n",
              "        dataTable['output_type'] = 'display_data';\n",
              "        await google.colab.output.renderOutput(dataTable, element);\n",
              "        const docLink = document.createElement('div');\n",
              "        docLink.innerHTML = docLinkHtml;\n",
              "        element.appendChild(docLink);\n",
              "      }\n",
              "    </script>\n",
              "  </div>\n",
              "\n",
              "\n",
              "    </div>\n",
              "  </div>\n"
            ],
            "text/plain": [
              "   Sales 2Q 2023  Median 2Q 2023  Sales 2Q 2024  Median 2Q 2024  Median Change\n",
              "0            1.0        660000.0            2.0        755000.0       0.127843"
            ]
          },
          "execution_count": 4,
          "metadata": {},
          "output_type": "execute_result"
        }
      ],
      "source": [
        "df.mode(numeric_only=True)"
      ]
    },
    {
      "cell_type": "code",
      "execution_count": null,
      "metadata": {
        "colab": {
          "base_uri": "https://localhost:8080/"
        },
        "id": "kcxUQrKUWXY9",
        "outputId": "23997b0f-0fd0-46df-f159-cb6f23fdae0c"
      },
      "outputs": [
        {
          "data": {
            "text/plain": [
              "Sales 2Q 2023     1.383697e+02\n",
              "Median 2Q 2023    1.885626e+11\n",
              "Sales 2Q 2024     1.677593e+02\n",
              "Median 2Q 2024    2.222015e+11\n",
              "Median Change     6.432886e-02\n",
              "dtype: float64"
            ]
          },
          "execution_count": 5,
          "metadata": {},
          "output_type": "execute_result"
        }
      ],
      "source": [
        "df.var(numeric_only=True)"
      ]
    },
    {
      "cell_type": "code",
      "execution_count": null,
      "metadata": {
        "colab": {
          "base_uri": "https://localhost:8080/"
        },
        "id": "HwAJ3IQqWcLs",
        "outputId": "5a1d7796-7838-42b7-f52d-7afe2d204e85"
      },
      "outputs": [
        {
          "data": {
            "text/plain": [
              "Sales 2Q 2023         11.763066\n",
              "Median 2Q 2023    434237.970052\n",
              "Sales 2Q 2024         12.952193\n",
              "Median 2Q 2024    471382.560217\n",
              "Median Change          0.253631\n",
              "dtype: float64"
            ]
          },
          "execution_count": 6,
          "metadata": {},
          "output_type": "execute_result"
        }
      ],
      "source": [
        "df.std(numeric_only=True)"
      ]
    },
    {
      "cell_type": "code",
      "execution_count": null,
      "metadata": {
        "colab": {
          "base_uri": "https://localhost:8080/"
        },
        "id": "Xh5Scr1jWin0",
        "outputId": "9ddd3d57-a5c4-491f-c1b1-e98b9131861d"
      },
      "outputs": [
        {
          "data": {
            "text/plain": [
              "Sales 2Q 2023     9.900000e+01\n",
              "Median 2Q 2023    3.272000e+06\n",
              "Sales 2Q 2024     1.220000e+02\n",
              "Median 2Q 2024    2.645500e+06\n",
              "Median Change     3.133755e+00\n",
              "dtype: float64"
            ]
          },
          "execution_count": 7,
          "metadata": {},
          "output_type": "execute_result"
        }
      ],
      "source": [
        "df.max(numeric_only=True) - df.min(numeric_only=True)"
      ]
    },
    {
      "cell_type": "code",
      "execution_count": null,
      "metadata": {
        "colab": {
          "base_uri": "https://localhost:8080/",
          "height": 400
        },
        "id": "SbW7_rsGWkkM",
        "outputId": "f110819f-cdfb-4e3f-be02-763924a92f48"
      },
      "outputs": [
        {
          "data": {
            "application/vnd.google.colaboratory.intrinsic+json": {
              "summary": "{\n  \"name\": \"df\",\n  \"rows\": 5,\n  \"fields\": [\n    {\n      \"column\": \"Sales 2Q 2023\",\n      \"properties\": {\n        \"dtype\": \"number\",\n        \"std\": 1032172.3033631667,\n        \"min\": -1993900.5353256592,\n        \"max\": 139.37076170950965,\n        \"num_unique_values\": 5,\n        \"samples\": [\n          -1763075.8139633022,\n          -0.11068171251246542,\n          139.37076170950965\n        ],\n        \"semantic_type\": \"\",\n        \"description\": \"\"\n      }\n    },\n    {\n      \"column\": \"Median 2Q 2023\",\n      \"properties\": {\n        \"dtype\": \"number\",\n        \"std\": 98559981173.23793,\n        \"min\": -1763075.8139633022,\n        \"max\": 188562614634.67108,\n        \"num_unique_values\": 5,\n        \"samples\": [\n          188562614634.67108,\n          -27183.43421481122,\n          -1655729.9712405559\n        ],\n        \"semantic_type\": \"\",\n        \"description\": \"\"\n      }\n    },\n    {\n      \"column\": \"Sales 2Q 2024\",\n      \"properties\": {\n        \"dtype\": \"number\",\n        \"std\": 984354.8086183959,\n        \"min\": -1921951.4680246133,\n        \"max\": 167.7593083034741,\n        \"num_unique_values\": 5,\n        \"samples\": [\n          -1655729.9712405559,\n          -0.1985080959863315,\n          167.7593083034741\n        ],\n        \"semantic_type\": \"\",\n        \"description\": \"\"\n      }\n    },\n    {\n      \"column\": \"Median 2Q 2024\",\n      \"properties\": {\n        \"dtype\": \"number\",\n        \"std\": 109104689039.38103,\n        \"min\": -1993900.5353256592,\n        \"max\": 222201518076.9336,\n        \"num_unique_values\": 5,\n        \"samples\": [\n          170575301293.8039,\n          29442.004049802774,\n          -1921951.4680246133\n        ],\n        \"semantic_type\": \"\",\n        \"description\": \"\"\n      }\n    },\n    {\n      \"column\": \"Median Change\",\n      \"properties\": {\n        \"dtype\": \"number\",\n        \"std\": 20029.669816909653,\n        \"min\": -27183.43421481122,\n        \"max\": 29442.004049802774,\n        \"num_unique_values\": 5,\n        \"samples\": [\n          -27183.43421481122,\n          0.06432886261578201,\n          -0.1985080959863315\n        ],\n        \"semantic_type\": \"\",\n        \"description\": \"\"\n      }\n    }\n  ]\n}",
              "type": "dataframe"
            },
            "text/html": [
              "\n",
              "  <div id=\"df-dd9489d9-46c2-4746-b101-3da3e54afee0\" class=\"colab-df-container\">\n",
              "    <div>\n",
              "<style scoped>\n",
              "    .dataframe tbody tr th:only-of-type {\n",
              "        vertical-align: middle;\n",
              "    }\n",
              "\n",
              "    .dataframe tbody tr th {\n",
              "        vertical-align: top;\n",
              "    }\n",
              "\n",
              "    .dataframe thead th {\n",
              "        text-align: right;\n",
              "    }\n",
              "</style>\n",
              "<table border=\"1\" class=\"dataframe\">\n",
              "  <thead>\n",
              "    <tr style=\"text-align: right;\">\n",
              "      <th></th>\n",
              "      <th>Sales 2Q 2023</th>\n",
              "      <th>Median 2Q 2023</th>\n",
              "      <th>Sales 2Q 2024</th>\n",
              "      <th>Median 2Q 2024</th>\n",
              "      <th>Median Change</th>\n",
              "    </tr>\n",
              "  </thead>\n",
              "  <tbody>\n",
              "    <tr>\n",
              "      <th>Sales 2Q 2023</th>\n",
              "      <td>1.383697e+02</td>\n",
              "      <td>-1.763076e+06</td>\n",
              "      <td>1.393708e+02</td>\n",
              "      <td>-1.993901e+06</td>\n",
              "      <td>-0.110682</td>\n",
              "    </tr>\n",
              "    <tr>\n",
              "      <th>Median 2Q 2023</th>\n",
              "      <td>-1.763076e+06</td>\n",
              "      <td>1.885626e+11</td>\n",
              "      <td>-1.655730e+06</td>\n",
              "      <td>1.705753e+11</td>\n",
              "      <td>-27183.434215</td>\n",
              "    </tr>\n",
              "    <tr>\n",
              "      <th>Sales 2Q 2024</th>\n",
              "      <td>1.393708e+02</td>\n",
              "      <td>-1.655730e+06</td>\n",
              "      <td>1.677593e+02</td>\n",
              "      <td>-1.921951e+06</td>\n",
              "      <td>-0.198508</td>\n",
              "    </tr>\n",
              "    <tr>\n",
              "      <th>Median 2Q 2024</th>\n",
              "      <td>-1.993901e+06</td>\n",
              "      <td>1.705753e+11</td>\n",
              "      <td>-1.921951e+06</td>\n",
              "      <td>2.222015e+11</td>\n",
              "      <td>29442.004050</td>\n",
              "    </tr>\n",
              "    <tr>\n",
              "      <th>Median Change</th>\n",
              "      <td>-1.106817e-01</td>\n",
              "      <td>-2.718343e+04</td>\n",
              "      <td>-1.985081e-01</td>\n",
              "      <td>2.944200e+04</td>\n",
              "      <td>0.064329</td>\n",
              "    </tr>\n",
              "  </tbody>\n",
              "</table>\n",
              "</div>\n",
              "    <div class=\"colab-df-buttons\">\n",
              "\n",
              "  <div class=\"colab-df-container\">\n",
              "    <button class=\"colab-df-convert\" onclick=\"convertToInteractive('df-dd9489d9-46c2-4746-b101-3da3e54afee0')\"\n",
              "            title=\"Convert this dataframe to an interactive table.\"\n",
              "            style=\"display:none;\">\n",
              "\n",
              "  <svg xmlns=\"http://www.w3.org/2000/svg\" height=\"24px\" viewBox=\"0 -960 960 960\">\n",
              "    <path d=\"M120-120v-720h720v720H120Zm60-500h600v-160H180v160Zm220 220h160v-160H400v160Zm0 220h160v-160H400v160ZM180-400h160v-160H180v160Zm440 0h160v-160H620v160ZM180-180h160v-160H180v160Zm440 0h160v-160H620v160Z\"/>\n",
              "  </svg>\n",
              "    </button>\n",
              "\n",
              "  <style>\n",
              "    .colab-df-container {\n",
              "      display:flex;\n",
              "      gap: 12px;\n",
              "    }\n",
              "\n",
              "    .colab-df-convert {\n",
              "      background-color: #E8F0FE;\n",
              "      border: none;\n",
              "      border-radius: 50%;\n",
              "      cursor: pointer;\n",
              "      display: none;\n",
              "      fill: #1967D2;\n",
              "      height: 32px;\n",
              "      padding: 0 0 0 0;\n",
              "      width: 32px;\n",
              "    }\n",
              "\n",
              "    .colab-df-convert:hover {\n",
              "      background-color: #E2EBFA;\n",
              "      box-shadow: 0px 1px 2px rgba(60, 64, 67, 0.3), 0px 1px 3px 1px rgba(60, 64, 67, 0.15);\n",
              "      fill: #174EA6;\n",
              "    }\n",
              "\n",
              "    .colab-df-buttons div {\n",
              "      margin-bottom: 4px;\n",
              "    }\n",
              "\n",
              "    [theme=dark] .colab-df-convert {\n",
              "      background-color: #3B4455;\n",
              "      fill: #D2E3FC;\n",
              "    }\n",
              "\n",
              "    [theme=dark] .colab-df-convert:hover {\n",
              "      background-color: #434B5C;\n",
              "      box-shadow: 0px 1px 3px 1px rgba(0, 0, 0, 0.15);\n",
              "      filter: drop-shadow(0px 1px 2px rgba(0, 0, 0, 0.3));\n",
              "      fill: #FFFFFF;\n",
              "    }\n",
              "  </style>\n",
              "\n",
              "    <script>\n",
              "      const buttonEl =\n",
              "        document.querySelector('#df-dd9489d9-46c2-4746-b101-3da3e54afee0 button.colab-df-convert');\n",
              "      buttonEl.style.display =\n",
              "        google.colab.kernel.accessAllowed ? 'block' : 'none';\n",
              "\n",
              "      async function convertToInteractive(key) {\n",
              "        const element = document.querySelector('#df-dd9489d9-46c2-4746-b101-3da3e54afee0');\n",
              "        const dataTable =\n",
              "          await google.colab.kernel.invokeFunction('convertToInteractive',\n",
              "                                                    [key], {});\n",
              "        if (!dataTable) return;\n",
              "\n",
              "        const docLinkHtml = 'Like what you see? Visit the ' +\n",
              "          '<a target=\"_blank\" href=https://colab.research.google.com/notebooks/data_table.ipynb>data table notebook</a>'\n",
              "          + ' to learn more about interactive tables.';\n",
              "        element.innerHTML = '';\n",
              "        dataTable['output_type'] = 'display_data';\n",
              "        await google.colab.output.renderOutput(dataTable, element);\n",
              "        const docLink = document.createElement('div');\n",
              "        docLink.innerHTML = docLinkHtml;\n",
              "        element.appendChild(docLink);\n",
              "      }\n",
              "    </script>\n",
              "  </div>\n",
              "\n",
              "\n",
              "<div id=\"df-60c61389-1b1b-419c-a70a-4bc8ed927f31\">\n",
              "  <button class=\"colab-df-quickchart\" onclick=\"quickchart('df-60c61389-1b1b-419c-a70a-4bc8ed927f31')\"\n",
              "            title=\"Suggest charts\"\n",
              "            style=\"display:none;\">\n",
              "\n",
              "<svg xmlns=\"http://www.w3.org/2000/svg\" height=\"24px\"viewBox=\"0 0 24 24\"\n",
              "     width=\"24px\">\n",
              "    <g>\n",
              "        <path d=\"M19 3H5c-1.1 0-2 .9-2 2v14c0 1.1.9 2 2 2h14c1.1 0 2-.9 2-2V5c0-1.1-.9-2-2-2zM9 17H7v-7h2v7zm4 0h-2V7h2v10zm4 0h-2v-4h2v4z\"/>\n",
              "    </g>\n",
              "</svg>\n",
              "  </button>\n",
              "\n",
              "<style>\n",
              "  .colab-df-quickchart {\n",
              "      --bg-color: #E8F0FE;\n",
              "      --fill-color: #1967D2;\n",
              "      --hover-bg-color: #E2EBFA;\n",
              "      --hover-fill-color: #174EA6;\n",
              "      --disabled-fill-color: #AAA;\n",
              "      --disabled-bg-color: #DDD;\n",
              "  }\n",
              "\n",
              "  [theme=dark] .colab-df-quickchart {\n",
              "      --bg-color: #3B4455;\n",
              "      --fill-color: #D2E3FC;\n",
              "      --hover-bg-color: #434B5C;\n",
              "      --hover-fill-color: #FFFFFF;\n",
              "      --disabled-bg-color: #3B4455;\n",
              "      --disabled-fill-color: #666;\n",
              "  }\n",
              "\n",
              "  .colab-df-quickchart {\n",
              "    background-color: var(--bg-color);\n",
              "    border: none;\n",
              "    border-radius: 50%;\n",
              "    cursor: pointer;\n",
              "    display: none;\n",
              "    fill: var(--fill-color);\n",
              "    height: 32px;\n",
              "    padding: 0;\n",
              "    width: 32px;\n",
              "  }\n",
              "\n",
              "  .colab-df-quickchart:hover {\n",
              "    background-color: var(--hover-bg-color);\n",
              "    box-shadow: 0 1px 2px rgba(60, 64, 67, 0.3), 0 1px 3px 1px rgba(60, 64, 67, 0.15);\n",
              "    fill: var(--button-hover-fill-color);\n",
              "  }\n",
              "\n",
              "  .colab-df-quickchart-complete:disabled,\n",
              "  .colab-df-quickchart-complete:disabled:hover {\n",
              "    background-color: var(--disabled-bg-color);\n",
              "    fill: var(--disabled-fill-color);\n",
              "    box-shadow: none;\n",
              "  }\n",
              "\n",
              "  .colab-df-spinner {\n",
              "    border: 2px solid var(--fill-color);\n",
              "    border-color: transparent;\n",
              "    border-bottom-color: var(--fill-color);\n",
              "    animation:\n",
              "      spin 1s steps(1) infinite;\n",
              "  }\n",
              "\n",
              "  @keyframes spin {\n",
              "    0% {\n",
              "      border-color: transparent;\n",
              "      border-bottom-color: var(--fill-color);\n",
              "      border-left-color: var(--fill-color);\n",
              "    }\n",
              "    20% {\n",
              "      border-color: transparent;\n",
              "      border-left-color: var(--fill-color);\n",
              "      border-top-color: var(--fill-color);\n",
              "    }\n",
              "    30% {\n",
              "      border-color: transparent;\n",
              "      border-left-color: var(--fill-color);\n",
              "      border-top-color: var(--fill-color);\n",
              "      border-right-color: var(--fill-color);\n",
              "    }\n",
              "    40% {\n",
              "      border-color: transparent;\n",
              "      border-right-color: var(--fill-color);\n",
              "      border-top-color: var(--fill-color);\n",
              "    }\n",
              "    60% {\n",
              "      border-color: transparent;\n",
              "      border-right-color: var(--fill-color);\n",
              "    }\n",
              "    80% {\n",
              "      border-color: transparent;\n",
              "      border-right-color: var(--fill-color);\n",
              "      border-bottom-color: var(--fill-color);\n",
              "    }\n",
              "    90% {\n",
              "      border-color: transparent;\n",
              "      border-bottom-color: var(--fill-color);\n",
              "    }\n",
              "  }\n",
              "</style>\n",
              "\n",
              "  <script>\n",
              "    async function quickchart(key) {\n",
              "      const quickchartButtonEl =\n",
              "        document.querySelector('#' + key + ' button');\n",
              "      quickchartButtonEl.disabled = true;  // To prevent multiple clicks.\n",
              "      quickchartButtonEl.classList.add('colab-df-spinner');\n",
              "      try {\n",
              "        const charts = await google.colab.kernel.invokeFunction(\n",
              "            'suggestCharts', [key], {});\n",
              "      } catch (error) {\n",
              "        console.error('Error during call to suggestCharts:', error);\n",
              "      }\n",
              "      quickchartButtonEl.classList.remove('colab-df-spinner');\n",
              "      quickchartButtonEl.classList.add('colab-df-quickchart-complete');\n",
              "    }\n",
              "    (() => {\n",
              "      let quickchartButtonEl =\n",
              "        document.querySelector('#df-60c61389-1b1b-419c-a70a-4bc8ed927f31 button');\n",
              "      quickchartButtonEl.style.display =\n",
              "        google.colab.kernel.accessAllowed ? 'block' : 'none';\n",
              "    })();\n",
              "  </script>\n",
              "</div>\n",
              "\n",
              "    </div>\n",
              "  </div>\n"
            ],
            "text/plain": [
              "                Sales 2Q 2023  Median 2Q 2023  Sales 2Q 2024  Median 2Q 2024  \\\n",
              "Sales 2Q 2023    1.383697e+02   -1.763076e+06   1.393708e+02   -1.993901e+06   \n",
              "Median 2Q 2023  -1.763076e+06    1.885626e+11  -1.655730e+06    1.705753e+11   \n",
              "Sales 2Q 2024    1.393708e+02   -1.655730e+06   1.677593e+02   -1.921951e+06   \n",
              "Median 2Q 2024  -1.993901e+06    1.705753e+11  -1.921951e+06    2.222015e+11   \n",
              "Median Change   -1.106817e-01   -2.718343e+04  -1.985081e-01    2.944200e+04   \n",
              "\n",
              "                Median Change  \n",
              "Sales 2Q 2023       -0.110682  \n",
              "Median 2Q 2023  -27183.434215  \n",
              "Sales 2Q 2024       -0.198508  \n",
              "Median 2Q 2024   29442.004050  \n",
              "Median Change        0.064329  "
            ]
          },
          "execution_count": 8,
          "metadata": {},
          "output_type": "execute_result"
        }
      ],
      "source": [
        "df.cov(numeric_only=True)"
      ]
    },
    {
      "cell_type": "markdown",
      "source": [],
      "metadata": {
        "id": "HGDYo75CtFsZ"
      }
    },
    {
      "cell_type": "code",
      "execution_count": null,
      "metadata": {
        "colab": {
          "base_uri": "https://localhost:8080/",
          "height": 400
        },
        "id": "uRNHggU-Wp2k",
        "outputId": "8c54eb42-5107-402c-ebc7-d10622905ce1"
      },
      "outputs": [
        {
          "data": {
            "application/vnd.google.colaboratory.intrinsic+json": {
              "summary": "{\n  \"name\": \"df\",\n  \"rows\": 5,\n  \"fields\": [\n    {\n      \"column\": \"Sales 2Q 2023\",\n      \"properties\": {\n        \"dtype\": \"number\",\n        \"std\": 0.668462969372132,\n        \"min\": -0.3563881446023344,\n        \"max\": 1.0,\n        \"num_unique_values\": 5,\n        \"samples\": [\n          -0.34516175114538467,\n          -0.03675004818267827,\n          0.8998357233024533\n        ],\n        \"semantic_type\": \"\",\n        \"description\": \"\"\n      }\n    },\n    {\n      \"column\": \"Median 2Q 2023\",\n      \"properties\": {\n        \"dtype\": \"number\",\n        \"std\": 0.6685483693567299,\n        \"min\": -0.34516175114538467,\n        \"max\": 1.0,\n        \"num_unique_values\": 5,\n        \"samples\": [\n          1.0,\n          -0.24799143910808438,\n          -0.29371856040522254\n        ],\n        \"semantic_type\": \"\",\n        \"description\": \"\"\n      }\n    },\n    {\n      \"column\": \"Sales 2Q 2024\",\n      \"properties\": {\n        \"dtype\": \"number\",\n        \"std\": 0.651045454352907,\n        \"min\": -0.3147933814181347,\n        \"max\": 1.0,\n        \"num_unique_values\": 5,\n        \"samples\": [\n          -0.29371856040522254,\n          -0.060004229746866894,\n          1.0\n        ],\n        \"semantic_type\": \"\",\n        \"description\": \"\"\n      }\n    },\n    {\n      \"column\": \"Median 2Q 2024\",\n      \"properties\": {\n        \"dtype\": \"number\",\n        \"std\": 0.6303353707110599,\n        \"min\": -0.3563881446023344,\n        \"max\": 1.0,\n        \"num_unique_values\": 5,\n        \"samples\": [\n          0.8376955906281613,\n          0.2463764602032504,\n          -0.3147933814181347\n        ],\n        \"semantic_type\": \"\",\n        \"description\": \"\"\n      }\n    },\n    {\n      \"column\": \"Median Change\",\n      \"properties\": {\n        \"dtype\": \"number\",\n        \"std\": 0.4910612457315911,\n        \"min\": -0.24799143910808438,\n        \"max\": 1.0,\n        \"num_unique_values\": 5,\n        \"samples\": [\n          -0.24799143910808438,\n          1.0,\n          -0.060004229746866894\n        ],\n        \"semantic_type\": \"\",\n        \"description\": \"\"\n      }\n    }\n  ]\n}",
              "type": "dataframe"
            },
            "text/html": [
              "\n",
              "  <div id=\"df-08770eea-0f7a-4a5a-8428-597aacffa990\" class=\"colab-df-container\">\n",
              "    <div>\n",
              "<style scoped>\n",
              "    .dataframe tbody tr th:only-of-type {\n",
              "        vertical-align: middle;\n",
              "    }\n",
              "\n",
              "    .dataframe tbody tr th {\n",
              "        vertical-align: top;\n",
              "    }\n",
              "\n",
              "    .dataframe thead th {\n",
              "        text-align: right;\n",
              "    }\n",
              "</style>\n",
              "<table border=\"1\" class=\"dataframe\">\n",
              "  <thead>\n",
              "    <tr style=\"text-align: right;\">\n",
              "      <th></th>\n",
              "      <th>Sales 2Q 2023</th>\n",
              "      <th>Median 2Q 2023</th>\n",
              "      <th>Sales 2Q 2024</th>\n",
              "      <th>Median 2Q 2024</th>\n",
              "      <th>Median Change</th>\n",
              "    </tr>\n",
              "  </thead>\n",
              "  <tbody>\n",
              "    <tr>\n",
              "      <th>Sales 2Q 2023</th>\n",
              "      <td>1.000000</td>\n",
              "      <td>-0.345162</td>\n",
              "      <td>0.899836</td>\n",
              "      <td>-0.356388</td>\n",
              "      <td>-0.036750</td>\n",
              "    </tr>\n",
              "    <tr>\n",
              "      <th>Median 2Q 2023</th>\n",
              "      <td>-0.345162</td>\n",
              "      <td>1.000000</td>\n",
              "      <td>-0.293719</td>\n",
              "      <td>0.837696</td>\n",
              "      <td>-0.247991</td>\n",
              "    </tr>\n",
              "    <tr>\n",
              "      <th>Sales 2Q 2024</th>\n",
              "      <td>0.899836</td>\n",
              "      <td>-0.293719</td>\n",
              "      <td>1.000000</td>\n",
              "      <td>-0.314793</td>\n",
              "      <td>-0.060004</td>\n",
              "    </tr>\n",
              "    <tr>\n",
              "      <th>Median 2Q 2024</th>\n",
              "      <td>-0.356388</td>\n",
              "      <td>0.837696</td>\n",
              "      <td>-0.314793</td>\n",
              "      <td>1.000000</td>\n",
              "      <td>0.246376</td>\n",
              "    </tr>\n",
              "    <tr>\n",
              "      <th>Median Change</th>\n",
              "      <td>-0.036750</td>\n",
              "      <td>-0.247991</td>\n",
              "      <td>-0.060004</td>\n",
              "      <td>0.246376</td>\n",
              "      <td>1.000000</td>\n",
              "    </tr>\n",
              "  </tbody>\n",
              "</table>\n",
              "</div>\n",
              "    <div class=\"colab-df-buttons\">\n",
              "\n",
              "  <div class=\"colab-df-container\">\n",
              "    <button class=\"colab-df-convert\" onclick=\"convertToInteractive('df-08770eea-0f7a-4a5a-8428-597aacffa990')\"\n",
              "            title=\"Convert this dataframe to an interactive table.\"\n",
              "            style=\"display:none;\">\n",
              "\n",
              "  <svg xmlns=\"http://www.w3.org/2000/svg\" height=\"24px\" viewBox=\"0 -960 960 960\">\n",
              "    <path d=\"M120-120v-720h720v720H120Zm60-500h600v-160H180v160Zm220 220h160v-160H400v160Zm0 220h160v-160H400v160ZM180-400h160v-160H180v160Zm440 0h160v-160H620v160ZM180-180h160v-160H180v160Zm440 0h160v-160H620v160Z\"/>\n",
              "  </svg>\n",
              "    </button>\n",
              "\n",
              "  <style>\n",
              "    .colab-df-container {\n",
              "      display:flex;\n",
              "      gap: 12px;\n",
              "    }\n",
              "\n",
              "    .colab-df-convert {\n",
              "      background-color: #E8F0FE;\n",
              "      border: none;\n",
              "      border-radius: 50%;\n",
              "      cursor: pointer;\n",
              "      display: none;\n",
              "      fill: #1967D2;\n",
              "      height: 32px;\n",
              "      padding: 0 0 0 0;\n",
              "      width: 32px;\n",
              "    }\n",
              "\n",
              "    .colab-df-convert:hover {\n",
              "      background-color: #E2EBFA;\n",
              "      box-shadow: 0px 1px 2px rgba(60, 64, 67, 0.3), 0px 1px 3px 1px rgba(60, 64, 67, 0.15);\n",
              "      fill: #174EA6;\n",
              "    }\n",
              "\n",
              "    .colab-df-buttons div {\n",
              "      margin-bottom: 4px;\n",
              "    }\n",
              "\n",
              "    [theme=dark] .colab-df-convert {\n",
              "      background-color: #3B4455;\n",
              "      fill: #D2E3FC;\n",
              "    }\n",
              "\n",
              "    [theme=dark] .colab-df-convert:hover {\n",
              "      background-color: #434B5C;\n",
              "      box-shadow: 0px 1px 3px 1px rgba(0, 0, 0, 0.15);\n",
              "      filter: drop-shadow(0px 1px 2px rgba(0, 0, 0, 0.3));\n",
              "      fill: #FFFFFF;\n",
              "    }\n",
              "  </style>\n",
              "\n",
              "    <script>\n",
              "      const buttonEl =\n",
              "        document.querySelector('#df-08770eea-0f7a-4a5a-8428-597aacffa990 button.colab-df-convert');\n",
              "      buttonEl.style.display =\n",
              "        google.colab.kernel.accessAllowed ? 'block' : 'none';\n",
              "\n",
              "      async function convertToInteractive(key) {\n",
              "        const element = document.querySelector('#df-08770eea-0f7a-4a5a-8428-597aacffa990');\n",
              "        const dataTable =\n",
              "          await google.colab.kernel.invokeFunction('convertToInteractive',\n",
              "                                                    [key], {});\n",
              "        if (!dataTable) return;\n",
              "\n",
              "        const docLinkHtml = 'Like what you see? Visit the ' +\n",
              "          '<a target=\"_blank\" href=https://colab.research.google.com/notebooks/data_table.ipynb>data table notebook</a>'\n",
              "          + ' to learn more about interactive tables.';\n",
              "        element.innerHTML = '';\n",
              "        dataTable['output_type'] = 'display_data';\n",
              "        await google.colab.output.renderOutput(dataTable, element);\n",
              "        const docLink = document.createElement('div');\n",
              "        docLink.innerHTML = docLinkHtml;\n",
              "        element.appendChild(docLink);\n",
              "      }\n",
              "    </script>\n",
              "  </div>\n",
              "\n",
              "\n",
              "<div id=\"df-7b4c2527-860d-47a8-ad35-3af30bb75b2a\">\n",
              "  <button class=\"colab-df-quickchart\" onclick=\"quickchart('df-7b4c2527-860d-47a8-ad35-3af30bb75b2a')\"\n",
              "            title=\"Suggest charts\"\n",
              "            style=\"display:none;\">\n",
              "\n",
              "<svg xmlns=\"http://www.w3.org/2000/svg\" height=\"24px\"viewBox=\"0 0 24 24\"\n",
              "     width=\"24px\">\n",
              "    <g>\n",
              "        <path d=\"M19 3H5c-1.1 0-2 .9-2 2v14c0 1.1.9 2 2 2h14c1.1 0 2-.9 2-2V5c0-1.1-.9-2-2-2zM9 17H7v-7h2v7zm4 0h-2V7h2v10zm4 0h-2v-4h2v4z\"/>\n",
              "    </g>\n",
              "</svg>\n",
              "  </button>\n",
              "\n",
              "<style>\n",
              "  .colab-df-quickchart {\n",
              "      --bg-color: #E8F0FE;\n",
              "      --fill-color: #1967D2;\n",
              "      --hover-bg-color: #E2EBFA;\n",
              "      --hover-fill-color: #174EA6;\n",
              "      --disabled-fill-color: #AAA;\n",
              "      --disabled-bg-color: #DDD;\n",
              "  }\n",
              "\n",
              "  [theme=dark] .colab-df-quickchart {\n",
              "      --bg-color: #3B4455;\n",
              "      --fill-color: #D2E3FC;\n",
              "      --hover-bg-color: #434B5C;\n",
              "      --hover-fill-color: #FFFFFF;\n",
              "      --disabled-bg-color: #3B4455;\n",
              "      --disabled-fill-color: #666;\n",
              "  }\n",
              "\n",
              "  .colab-df-quickchart {\n",
              "    background-color: var(--bg-color);\n",
              "    border: none;\n",
              "    border-radius: 50%;\n",
              "    cursor: pointer;\n",
              "    display: none;\n",
              "    fill: var(--fill-color);\n",
              "    height: 32px;\n",
              "    padding: 0;\n",
              "    width: 32px;\n",
              "  }\n",
              "\n",
              "  .colab-df-quickchart:hover {\n",
              "    background-color: var(--hover-bg-color);\n",
              "    box-shadow: 0 1px 2px rgba(60, 64, 67, 0.3), 0 1px 3px 1px rgba(60, 64, 67, 0.15);\n",
              "    fill: var(--button-hover-fill-color);\n",
              "  }\n",
              "\n",
              "  .colab-df-quickchart-complete:disabled,\n",
              "  .colab-df-quickchart-complete:disabled:hover {\n",
              "    background-color: var(--disabled-bg-color);\n",
              "    fill: var(--disabled-fill-color);\n",
              "    box-shadow: none;\n",
              "  }\n",
              "\n",
              "  .colab-df-spinner {\n",
              "    border: 2px solid var(--fill-color);\n",
              "    border-color: transparent;\n",
              "    border-bottom-color: var(--fill-color);\n",
              "    animation:\n",
              "      spin 1s steps(1) infinite;\n",
              "  }\n",
              "\n",
              "  @keyframes spin {\n",
              "    0% {\n",
              "      border-color: transparent;\n",
              "      border-bottom-color: var(--fill-color);\n",
              "      border-left-color: var(--fill-color);\n",
              "    }\n",
              "    20% {\n",
              "      border-color: transparent;\n",
              "      border-left-color: var(--fill-color);\n",
              "      border-top-color: var(--fill-color);\n",
              "    }\n",
              "    30% {\n",
              "      border-color: transparent;\n",
              "      border-left-color: var(--fill-color);\n",
              "      border-top-color: var(--fill-color);\n",
              "      border-right-color: var(--fill-color);\n",
              "    }\n",
              "    40% {\n",
              "      border-color: transparent;\n",
              "      border-right-color: var(--fill-color);\n",
              "      border-top-color: var(--fill-color);\n",
              "    }\n",
              "    60% {\n",
              "      border-color: transparent;\n",
              "      border-right-color: var(--fill-color);\n",
              "    }\n",
              "    80% {\n",
              "      border-color: transparent;\n",
              "      border-right-color: var(--fill-color);\n",
              "      border-bottom-color: var(--fill-color);\n",
              "    }\n",
              "    90% {\n",
              "      border-color: transparent;\n",
              "      border-bottom-color: var(--fill-color);\n",
              "    }\n",
              "  }\n",
              "</style>\n",
              "\n",
              "  <script>\n",
              "    async function quickchart(key) {\n",
              "      const quickchartButtonEl =\n",
              "        document.querySelector('#' + key + ' button');\n",
              "      quickchartButtonEl.disabled = true;  // To prevent multiple clicks.\n",
              "      quickchartButtonEl.classList.add('colab-df-spinner');\n",
              "      try {\n",
              "        const charts = await google.colab.kernel.invokeFunction(\n",
              "            'suggestCharts', [key], {});\n",
              "      } catch (error) {\n",
              "        console.error('Error during call to suggestCharts:', error);\n",
              "      }\n",
              "      quickchartButtonEl.classList.remove('colab-df-spinner');\n",
              "      quickchartButtonEl.classList.add('colab-df-quickchart-complete');\n",
              "    }\n",
              "    (() => {\n",
              "      let quickchartButtonEl =\n",
              "        document.querySelector('#df-7b4c2527-860d-47a8-ad35-3af30bb75b2a button');\n",
              "      quickchartButtonEl.style.display =\n",
              "        google.colab.kernel.accessAllowed ? 'block' : 'none';\n",
              "    })();\n",
              "  </script>\n",
              "</div>\n",
              "\n",
              "    </div>\n",
              "  </div>\n"
            ],
            "text/plain": [
              "                Sales 2Q 2023  Median 2Q 2023  Sales 2Q 2024  Median 2Q 2024  \\\n",
              "Sales 2Q 2023        1.000000       -0.345162       0.899836       -0.356388   \n",
              "Median 2Q 2023      -0.345162        1.000000      -0.293719        0.837696   \n",
              "Sales 2Q 2024        0.899836       -0.293719       1.000000       -0.314793   \n",
              "Median 2Q 2024      -0.356388        0.837696      -0.314793        1.000000   \n",
              "Median Change       -0.036750       -0.247991      -0.060004        0.246376   \n",
              "\n",
              "                Median Change  \n",
              "Sales 2Q 2023       -0.036750  \n",
              "Median 2Q 2023      -0.247991  \n",
              "Sales 2Q 2024       -0.060004  \n",
              "Median 2Q 2024       0.246376  \n",
              "Median Change        1.000000  "
            ]
          },
          "execution_count": 9,
          "metadata": {},
          "output_type": "execute_result"
        }
      ],
      "source": [
        "df.corr(numeric_only=True)"
      ]
    },
    {
      "cell_type": "code",
      "execution_count": null,
      "metadata": {
        "colab": {
          "background_save": true,
          "base_uri": "https://localhost:8080/"
        },
        "id": "aO6f1QPsT58x",
        "outputId": "f85b0dbe-2aa8-4670-f023-903531eee0f9"
      },
      "outputs": [
        {
          "name": "stdout",
          "output_type": "stream",
          "text": [
            "one-way ANOVA\n",
            "F_value: nan\n",
            "p_value: nan\n"
          ]
        }
      ],
      "source": [
        "import pandas as pd\n",
        "import scipy.stats as stats\n",
        "df=pd.read_excel(\"/content/lsg_stats_2024_q2 (2).xlsx\")\n",
        "f_value, p_value=stats.f_oneway(df['Sales 2Q 2024'], df['Median 2Q 2023'], df['Median Change'])\n",
        "print(\"one-way ANOVA\")\n",
        "print(\"F_value:\", f_value)\n",
        "print(\"p_value:\", p_value)\n"
      ]
    },
    {
      "cell_type": "code",
      "execution_count": null,
      "metadata": {
        "colab": {
          "base_uri": "https://localhost:8080/"
        },
        "id": "ATIEZSi9WD0a",
        "outputId": "a91c21ca-22f2-4918-f427-c41f02fb08c3"
      },
      "outputs": [
        {
          "name": "stdout",
          "output_type": "stream",
          "text": [
            "kruskal-wallis test\n",
            "H_statistic: nan\n",
            "p_value: nan\n"
          ]
        }
      ],
      "source": [
        "import pandas as pd\n",
        "from scipy import stats\n",
        "df=pd.read_excel(\"/content/lsg_stats_2024_q2.xlsx\")\n",
        "h_statistic, p_value = stats.kruskal(df['Sales 2Q 2023'], df['Median 2Q 2024'])\n",
        "print(\"kruskal-wallis test\")\n",
        "print(\"H_statistic:\",h_statistic)\n",
        "print(\"p_value:\",p_value)"
      ]
    },
    {
      "cell_type": "code",
      "execution_count": null,
      "metadata": {
        "colab": {
          "base_uri": "https://localhost:8080/",
          "height": 465
        },
        "id": "ORhidjT1WzBj",
        "outputId": "91deec7c-fe74-4395-aa99-1efa92f06c15"
      },
      "outputs": [
        {
          "data": {
            "image/png": "[encoded data removed]",
            "text/plain": [
              "<Figure size 640x480 with 1 Axes>"
            ]
          },
          "metadata": {},
          "output_type": "display_data"
        }
      ],
      "source": [
        "import pandas as pd\n",
        "df=pd.read_excel(\"/content/lsg_stats_2024_q2.xlsx\")\n",
        "import matplotlib.pyplot as plt\n",
        "plt.bar(df['Sales 2Q 2023'],df['Median 2Q 2023'])\n",
        "plt.xlabel(\"Sales 2Q 2023\")\n",
        "plt.ylabel(\"Median 2Q 2023\")\n",
        "plt.show()"
      ]
    },
    {
      "cell_type": "code",
      "execution_count": null,
      "metadata": {
        "colab": {
          "base_uri": "https://localhost:8080/",
          "height": 430
        },
        "id": "xdXNVYjmXJEj",
        "outputId": "e779e9e3-0f23-4ea6-f91b-65feb11c17c3"
      },
      "outputs": [
        {
          "data": {
            "image/png": "[encoded data removed]",
            "text/plain": [
              "<Figure size 640x480 with 1 Axes>"
            ]
          },
          "metadata": {},
          "output_type": "display_data"
        }
      ],
      "source": [
        "import pandas as pd\n",
        "df=pd.read_excel(\"/content/lsg_stats_2024_q2.xlsx\")\n",
        "import matplotlib.pyplot as plt\n",
        "df.boxplot('Sales 2Q 2023')\n",
        "plt.show()"
      ]
    },
    {
      "cell_type": "code",
      "execution_count": null,
      "metadata": {
        "colab": {
          "base_uri": "https://localhost:8080/",
          "height": 465
        },
        "id": "vPCbPl-jXY2D",
        "outputId": "1361da3d-b6b3-464c-a737-84789195a28f"
      },
      "outputs": [
        {
          "data": {
            "image/png": "[encoded data removed]",
            "text/plain": [
              "<Figure size 640x480 with 1 Axes>"
            ]
          },
          "metadata": {},
          "output_type": "display_data"
        }
      ],
      "source": [
        "import pandas as pd\n",
        "df=pd.read_excel(\"/content/lsg_stats_2024_q2.xlsx\")\n",
        "import matplotlib.pyplot as plt\n",
        "plt.scatter(df['Sales 2Q 2023'],df['Median 2Q 2023'])\n",
        "plt.xlabel(\"Sales 2Q 2023\")\n",
        "plt.ylabel(\"Median 2Q 2023\")\n",
        "plt.show()"
      ]
    },
    {
      "cell_type": "code",
      "execution_count": null,
      "metadata": {
        "colab": {
          "base_uri": "https://localhost:8080/",
          "height": 535
        },
        "id": "_XtKu0txi-sy",
        "outputId": "5d916103-5135-46b4-e9b8-be5c7a505749"
      },
      "outputs": [
        {
          "data": {
            "image/png": "[encoded data removed]",
            "text/plain": [
              "<Figure size 640x480 with 2 Axes>"
            ]
          },
          "metadata": {},
          "output_type": "display_data"
        }
      ],
      "source": [
        "import pandas as pd\n",
        "import matplotlib.pyplot as plt\n",
        "import seaborn as sns\n",
        "df=pd.read_excel(\"/content/lsg_stats_2024_q2.xlsx\")\n",
        "\n",
        "# Calculate the correlation matrix\n",
        "corr_matrix = df.corr(numeric_only=True)\n",
        "\n",
        "# Use seaborn to create the heatmap\n",
        "sns.heatmap(corr_matrix, annot=True)\n",
        "plt.show()"
      ]
    },
    {
      "cell_type": "code",
      "execution_count": null,
      "metadata": {
        "colab": {
          "base_uri": "https://localhost:8080/",
          "height": 411
        },
        "id": "xIiU4k3uvp7l",
        "outputId": "86e6d075-4fa1-465d-fdb3-c25b5a777046"
      },
      "outputs": [
        {
          "data": {
            "image/png": "[encoded data removed]",
            "text/plain": [
              "<Figure size 640x480 with 1 Axes>"
            ]
          },
          "metadata": {},
          "output_type": "display_data"
        }
      ],
      "source": [
        "import pandas as pd\n",
        "import seaborn as sns\n",
        "df=pd.read_excel(\"/content/lsg_stats_2024_q2.xlsx\")\n",
        "import matplotlib.pyplot as plt\n",
        "sns.violinplot(df['Sales 2Q 2023'])\n",
        "plt.show()"
      ]
    },
    {
      "cell_type": "code",
      "execution_count": null,
      "metadata": {
        "colab": {
          "base_uri": "https://localhost:8080/",
          "height": 775
        },
        "id": "vaPPYDQyxRiC",
        "outputId": "1cb55f8e-367a-4fff-8998-1e5ca53f4c90"
      },
      "outputs": [
        {
          "data": {
            "text/plain": [
              "<seaborn.axisgrid.PairGrid at 0x7d73cd1a7f10>"
            ]
          },
          "execution_count": 21,
          "metadata": {},
          "output_type": "execute_result"
        },
        {
          "data": {
            "image/png": "[encoded data removed]",
            "text/plain": [
              "<Figure size 750x750 with 12 Axes>"
            ]
          },
          "metadata": {},
          "output_type": "display_data"
        }
      ],
      "source": [
        "import pandas as pd\n",
        "import matplotlib.pyplot as plt\n",
        "import seaborn as sns\n",
        "df=pd.read_excel(\"/content/lsg_stats_2024_q2.xlsx\")\n",
        "sns.pairplot(df, vars=['Sales 2Q 2023', 'Median 2Q 2023','Sales 2Q 2024'])"
      ]
    },
    {
      "cell_type": "markdown",
      "metadata": {
        "id": "xpWk9Iljtd_f"
      },
      "source": []
    },
    {
      "cell_type": "code",
      "execution_count": null,
      "metadata": {
        "colab": {
          "base_uri": "https://localhost:8080/"
        },
        "id": "ezY4u8mk2NHN",
        "outputId": "78fbef89-3bcc-4470-fc10-a0527c0ab1d0"
      },
      "outputs": [
        {
          "name": "stdout",
          "output_type": "stream",
          "text": [
            "Avon\n",
            "F_statistic: nan\n",
            "p_value: nan\n"
          ]
        }
      ],
      "source": [
        "import pandas as pd\n",
        "from scipy import stats\n",
        "df=pd.read_excel(\"/content/lsg_stats_2024_q2.xlsx\")\n",
        "f_statistic, p_value = stats.f_oneway(df['Sales 2Q 2023'], df['Median 2Q 2024'])\n",
        "print(\"Avon\")\n",
        "print(\"F_statistic:\",f_statistic)\n",
        "print(\"p_value:\",p_value)"
      ]
    },
    {
      "cell_type": "code",
      "source": [
        "import pandas as pd\n",
        "from scipy.stats import chi2_contingency\n",
        "df=pd.read_excel('/content/lsg_stats_2024_q2 (2).xlsx')\n",
        "contingency_table=pd.crosstab(df['Sales 2Q 2023'],df['Sales 2Q 2024'])\n",
        "chi2, p, dof, ex = chi2_contingency(contingency_table)\n",
        "print(f\"Chi-Square Test of Independent: chi2={chi2}, p={p}, dog={dof}, expected={ex}\")"
      ],
      "metadata": {
        "colab": {
          "base_uri": "https://localhost:8080/"
        },
        "id": "hfdk71JtNoyc",
        "outputId": "5b5b298a-6d9d-464d-e65a-52e867be16d6"
      },
      "execution_count": null,
      "outputs": [
        {
          "output_type": "stream",
          "name": "stdout",
          "text": [
            "Chi-Square Test of Independent: chi2=334.3616666666667, p=3.7370271813323256e-05, dog=238, expected=[[0.98039216 0.78431373 0.78431373 0.78431373 0.39215686 0.78431373\n",
            "  0.98039216 0.78431373 0.58823529 0.58823529 0.19607843 0.39215686\n",
            "  0.19607843 0.39215686 0.58823529 0.19607843 0.19607843 0.39215686]\n",
            " [0.49019608 0.39215686 0.39215686 0.39215686 0.19607843 0.39215686\n",
            "  0.49019608 0.39215686 0.29411765 0.29411765 0.09803922 0.19607843\n",
            "  0.09803922 0.19607843 0.29411765 0.09803922 0.09803922 0.19607843]\n",
            " [0.49019608 0.39215686 0.39215686 0.39215686 0.19607843 0.39215686\n",
            "  0.49019608 0.39215686 0.29411765 0.29411765 0.09803922 0.19607843\n",
            "  0.09803922 0.19607843 0.29411765 0.09803922 0.09803922 0.19607843]\n",
            " [0.78431373 0.62745098 0.62745098 0.62745098 0.31372549 0.62745098\n",
            "  0.78431373 0.62745098 0.47058824 0.47058824 0.15686275 0.31372549\n",
            "  0.15686275 0.31372549 0.47058824 0.15686275 0.15686275 0.31372549]\n",
            " [0.39215686 0.31372549 0.31372549 0.31372549 0.15686275 0.31372549\n",
            "  0.39215686 0.31372549 0.23529412 0.23529412 0.07843137 0.15686275\n",
            "  0.07843137 0.15686275 0.23529412 0.07843137 0.07843137 0.15686275]\n",
            " [0.19607843 0.15686275 0.15686275 0.15686275 0.07843137 0.15686275\n",
            "  0.19607843 0.15686275 0.11764706 0.11764706 0.03921569 0.07843137\n",
            "  0.03921569 0.07843137 0.11764706 0.03921569 0.03921569 0.07843137]\n",
            " [0.09803922 0.07843137 0.07843137 0.07843137 0.03921569 0.07843137\n",
            "  0.09803922 0.07843137 0.05882353 0.05882353 0.01960784 0.03921569\n",
            "  0.01960784 0.03921569 0.05882353 0.01960784 0.01960784 0.03921569]\n",
            " [0.09803922 0.07843137 0.07843137 0.07843137 0.03921569 0.07843137\n",
            "  0.09803922 0.07843137 0.05882353 0.05882353 0.01960784 0.03921569\n",
            "  0.01960784 0.03921569 0.05882353 0.01960784 0.01960784 0.03921569]\n",
            " [0.09803922 0.07843137 0.07843137 0.07843137 0.03921569 0.07843137\n",
            "  0.09803922 0.07843137 0.05882353 0.05882353 0.01960784 0.03921569\n",
            "  0.01960784 0.03921569 0.05882353 0.01960784 0.01960784 0.03921569]\n",
            " [0.49019608 0.39215686 0.39215686 0.39215686 0.19607843 0.39215686\n",
            "  0.49019608 0.39215686 0.29411765 0.29411765 0.09803922 0.19607843\n",
            "  0.09803922 0.19607843 0.29411765 0.09803922 0.09803922 0.19607843]\n",
            " [0.09803922 0.07843137 0.07843137 0.07843137 0.03921569 0.07843137\n",
            "  0.09803922 0.07843137 0.05882353 0.05882353 0.01960784 0.03921569\n",
            "  0.01960784 0.03921569 0.05882353 0.01960784 0.01960784 0.03921569]\n",
            " [0.09803922 0.07843137 0.07843137 0.07843137 0.03921569 0.07843137\n",
            "  0.09803922 0.07843137 0.05882353 0.05882353 0.01960784 0.03921569\n",
            "  0.01960784 0.03921569 0.05882353 0.01960784 0.01960784 0.03921569]\n",
            " [0.29411765 0.23529412 0.23529412 0.23529412 0.11764706 0.23529412\n",
            "  0.29411765 0.23529412 0.17647059 0.17647059 0.05882353 0.11764706\n",
            "  0.05882353 0.11764706 0.17647059 0.05882353 0.05882353 0.11764706]\n",
            " [0.29411765 0.23529412 0.23529412 0.23529412 0.11764706 0.23529412\n",
            "  0.29411765 0.23529412 0.17647059 0.17647059 0.05882353 0.11764706\n",
            "  0.05882353 0.11764706 0.17647059 0.05882353 0.05882353 0.11764706]\n",
            " [0.09803922 0.07843137 0.07843137 0.07843137 0.03921569 0.07843137\n",
            "  0.09803922 0.07843137 0.05882353 0.05882353 0.01960784 0.03921569\n",
            "  0.01960784 0.03921569 0.05882353 0.01960784 0.01960784 0.03921569]]\n"
          ]
        }
      ]
    },
    {
      "cell_type": "code",
      "source": [
        "from scipy.stats import kruskal\n",
        "df=pd.read_excel(\"/content/lsg_stats_2024_q2 (2).xlsx\")\n",
        "h_stat, p_val = kruskal(\"Sales 2Q 2023\",\"Sales 2Q 2024\",\"Median 2Q 2023\")\n",
        "print(f\"kruskal-wallis Test:H_stat={h_stat},P_val{p_val}\")"
      ],
      "metadata": {
        "colab": {
          "base_uri": "https://localhost:8080/"
        },
        "id": "JOrtwPvVOn2m",
        "outputId": "28829e24-f7f5-483f-d056-68467d3c01ae"
      },
      "execution_count": null,
      "outputs": [
        {
          "output_type": "stream",
          "name": "stdout",
          "text": [
            "kruskal-wallis Test:H_stat=2.0,P_val0.36787944117144245\n"
          ]
        }
      ]
    },
    {
      "cell_type": "code",
      "source": [
        "import pandas as pd\n",
        "from scipy.stats import norm\n",
        "Data =pd.read_excel('/content/lsg_stats_2024_q2 (1).xlsx')\n",
        "Mean_Sales=Data['Sales 2Q 2023'].mean()\n",
        "Std_Sales=Data['Sales 2Q 2023'].std()\n",
        "Value=30\n",
        "Z_score=(Value-Mean_Sales)/Std_Sales\n",
        "Probability=1-norm.cdf(Z_score)\n",
        "print(f'proability Sales 2Q 2023 greater than ${Value}:{Probability:2%}')"
      ],
      "metadata": {
        "id": "aO3zYFoNswc9",
        "colab": {
          "base_uri": "https://localhost:8080/"
        },
        "outputId": "1c9f96da-d74a-42b4-9f05-25fc59d4c0e1"
      },
      "execution_count": null,
      "outputs": [
        {
          "output_type": "stream",
          "name": "stdout",
          "text": [
            "proability Sales 2Q 2023 greater than $30:6.066973%\n"
          ]
        }
      ]
    },
    {
      "cell_type": "code",
      "source": [
        "import pandas as pd\n",
        "from scipy.stats import norm\n",
        "Data =pd.read_excel('/content/iris (1).csv.xlsx')\n",
        "Mean_sepal=Data['sepal.length'].mean()\n",
        "Std_sepal=Data['sepal.length'].std()\n",
        "Value=2\n",
        "Z_score=(Value-Mean_sepal)/Std_sepal\n",
        "Probability=1-norm.cdf(Z_score)\n",
        "print(f'proability sepal.length greater than ${Value}:{Probability:2%}')"
      ],
      "metadata": {
        "colab": {
          "base_uri": "https://localhost:8080/"
        },
        "id": "q_2Hcaz2WMWz",
        "outputId": "b6d214a7-98b6-460d-e6e8-cb9d187a62f1"
      },
      "execution_count": null,
      "outputs": [
        {
          "output_type": "stream",
          "name": "stdout",
          "text": [
            "proability sepal.length greater than $2:99.999827%\n"
          ]
        }
      ]
    },
    {
      "cell_type": "code",
      "source": [
        "import pandas as pd\n",
        "df=pd.read_excel('/content/iris (1).csv.xlsx')\n",
        "print(df.columns)\n",
        "total_count=df['sepal.length'].sum()\n",
        "df['probability']=df['sepal.length']/total_count\n",
        "print(df)"
      ],
      "metadata": {
        "colab": {
          "base_uri": "https://localhost:8080/"
        },
        "id": "rLXu4VvBdve1",
        "outputId": "d6a2c599-2f16-46d7-ec12-0487fd6d422c"
      },
      "execution_count": null,
      "outputs": [
        {
          "output_type": "stream",
          "name": "stdout",
          "text": [
            "Index(['sepal.length', 'sepal.width', 'petal.length', 'petal.width',\n",
            "       'variety'],\n",
            "      dtype='object')\n",
            "     sepal.length  sepal.width  petal.length  petal.width    variety  \\\n",
            "0             5.1          3.5           1.4          0.2     Setosa   \n",
            "1             4.9          3.0           1.4          0.2     Setosa   \n",
            "2             4.7          3.2           1.3          0.2     Setosa   \n",
            "3             4.6          3.1           1.5          0.2     Setosa   \n",
            "4             5.0          3.6           1.4          0.2     Setosa   \n",
            "..            ...          ...           ...          ...        ...   \n",
            "145           6.7          3.0           5.2          2.3  Virginica   \n",
            "146           6.3          2.5           5.0          1.9  Virginica   \n",
            "147           6.5          3.0           5.2          2.0  Virginica   \n",
            "148           6.2          3.4           5.4          2.3  Virginica   \n",
            "149           5.9          3.0           5.1          1.8  Virginica   \n",
            "\n",
            "     probability  \n",
            "0       0.005819  \n",
            "1       0.005590  \n",
            "2       0.005362  \n",
            "3       0.005248  \n",
            "4       0.005705  \n",
            "..           ...  \n",
            "145     0.007644  \n",
            "146     0.007188  \n",
            "147     0.007416  \n",
            "148     0.007074  \n",
            "149     0.006731  \n",
            "\n",
            "[150 rows x 6 columns]\n"
          ]
        }
      ]
    },
    {
      "cell_type": "code",
      "source": [
        "import pandas as pd\n",
        "df=pd.read_excel('/content/lsg_stats_2024_q2 (1).xlsx')\n",
        "print(df.columns)\n",
        "total_count=df['Sales 2Q 2023'].sum()\n",
        "df['probability']=df['Sales 2Q 2023']/total_count\n",
        "print(df)"
      ],
      "metadata": {
        "colab": {
          "base_uri": "https://localhost:8080/"
        },
        "id": "gynE0v98eghp",
        "outputId": "23ac33ba-fee0-48f6-b947-ef3e91c5507c"
      },
      "execution_count": null,
      "outputs": [
        {
          "output_type": "stream",
          "name": "stdout",
          "text": [
            "Index(['City', 'Suburb', 'Sales 2Q 2023', 'Median 2Q 2023', 'Sales 2Q 2024',\n",
            "       'Median 2Q 2024', 'Median Change'],\n",
            "      dtype='object')\n",
            "               City          Suburb  Sales 2Q 2023  Median 2Q 2023  \\\n",
            "0          ADELAIDE        ADELAIDE            4.0        978000.0   \n",
            "1          ADELAIDE  NORTH ADELAIDE            3.0       1080000.0   \n",
            "2    ADELAIDE HILLS         ALDGATE           11.0       1119045.0   \n",
            "3    ADELAIDE HILLS          ASHTON            NaN             NaN   \n",
            "4    ADELAIDE HILLS       BALHANNAH            1.0        635000.0   \n",
            "..              ...             ...            ...             ...   \n",
            "477    WEST TORRENS       THEBARTON            4.0        875000.0   \n",
            "478    WEST TORRENS    TORRENSVILLE           13.0       1058128.0   \n",
            "479    WEST TORRENS       UNDERDALE            3.0       1104000.0   \n",
            "480    WEST TORRENS      WEST BEACH           21.0       1082000.0   \n",
            "481    WEST TORRENS   WEST RICHMOND            3.0        580000.0   \n",
            "\n",
            "     Sales 2Q 2024  Median 2Q 2024  Median Change  probability  \n",
            "0              7.0       1750000.0       0.789366     0.000851  \n",
            "1              6.0       1325000.0       0.226852     0.000638  \n",
            "2             10.0       1240000.0       0.108088     0.002341  \n",
            "3              2.0        850500.0            NaN          NaN  \n",
            "4              8.0        892500.0       0.405512     0.000213  \n",
            "..             ...             ...            ...          ...  \n",
            "477            4.0       1027500.0       0.174286     0.000851  \n",
            "478           12.0       1037000.0      -0.019967     0.002767  \n",
            "479            8.0       1070000.0      -0.030797     0.000638  \n",
            "480           12.0       1250000.0       0.155268     0.004469  \n",
            "481            2.0        790000.0       0.362069     0.000638  \n",
            "\n",
            "[482 rows x 8 columns]\n"
          ]
        }
      ]
    }
  ],
  "metadata": {
    "colab": {
      "provenance": [],
      "authorship_tag": "ABX9TyP/d6tuQybLLdO1V+nySw5X",
      "include_colab_link": true
    },
    "kernelspec": {
      "display_name": "Python 3",
      "name": "python3"
    },
    "language_info": {
      "name": "python"
    }
  },
  "nbformat": 4,
  "nbformat_minor": 0
}