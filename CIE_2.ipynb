{
  "nbformat": 4,
  "nbformat_minor": 0,
  "metadata": {
    "colab": {
      "provenance": [],
      "authorship_tag": "ABX9TyPCCrbcnYTr5AjCdTuJQFjX",
      "include_colab_link": true
    },
    "kernelspec": {
      "name": "python3",
      "display_name": "Python 3"
    },
    "language_info": {
      "name": "python"
    }
  },
  "cells": [
    {
      "cell_type": "markdown",
      "metadata": {
        "id": "view-in-github",
        "colab_type": "text"
      },
      "source": [
        "<a href=\"https://colab.research.google.com/github/Kusuma0414/Kusuma0414/blob/main/CIE_2.ipynb\" target=\"_parent\"><img src=\"https://colab.research.google.com/assets/colab-badge.svg\" alt=\"Open In Colab\"/></a>"
      ]
    },
    {
      "cell_type": "code",
      "execution_count": 2,
      "metadata": {
        "colab": {
          "base_uri": "https://localhost:8080/"
        },
        "id": "c1zcuhf5OluC",
        "outputId": "3b2ebb4d-4df3-4e15-94d1-88fbdaa8f650"
      },
      "outputs": [
        {
          "output_type": "stream",
          "name": "stdout",
          "text": [
            "     Unnamed: 0            City         Country  Population (2024)  \\\n",
            "0             0           Tokyo           Japan           37115035   \n",
            "1             1           Delhi           India           33807403   \n",
            "2             2        Shanghai           China           29867918   \n",
            "3             3           Dhaka      Bangladesh           23935652   \n",
            "4             4       Sao Paulo          Brazil           22806704   \n",
            "..          ...             ...             ...                ...   \n",
            "796         796       Bhavnagar           India             751493   \n",
            "797         797       Sheffield  United Kingdom             751303   \n",
            "798         798          Huambo          Angola             751297   \n",
            "799         799  Ribeirao Preto          Brazil             750174   \n",
            "800         800       Panzhihua           China             750036   \n",
            "\n",
            "     Population (2023)  Growth Rate  \n",
            "0             37194105      -0.0021  \n",
            "1             32941309       0.0263  \n",
            "2             29210808       0.0225  \n",
            "3             23209616       0.0313  \n",
            "4             22619736       0.0083  \n",
            "..                 ...          ...  \n",
            "796             737128       0.0195  \n",
            "797             745876       0.0073  \n",
            "798             727641       0.0325  \n",
            "799             742115       0.0109  \n",
            "800             738495       0.0156  \n",
            "\n",
            "[801 rows x 6 columns]\n"
          ]
        }
      ],
      "source": [
        "import pandas as pd\n",
        "df=pd.read_csv('/content/World Largest Cities by Population 2024.csv')\n",
        "print(df)"
      ]
    },
    {
      "cell_type": "code",
      "source": [
        "df.describe()"
      ],
      "metadata": {
        "colab": {
          "base_uri": "https://localhost:8080/",
          "height": 300
        },
        "id": "odIE_8gLbSZr",
        "outputId": "9f5e9c98-e475-49fc-f60e-612d730003a2"
      },
      "execution_count": 27,
      "outputs": [
        {
          "output_type": "execute_result",
          "data": {
            "text/plain": [
              "       Unnamed: 0  Population (2024)  Population (2023)  Growth Rate\n",
              "count  801.000000       8.010000e+02       8.010000e+02   801.000000\n",
              "mean   400.000000       2.654327e+06       2.604461e+06     0.020051\n",
              "std    231.373075       3.723253e+06       3.661201e+06     0.012180\n",
              "min      0.000000       7.500360e+05       7.228360e+05    -0.024900\n",
              "25%    200.000000       9.909310e+05       9.698040e+05     0.012200\n",
              "50%    400.000000       1.379368e+06       1.363510e+06     0.019700\n",
              "75%    600.000000       2.570980e+06       2.514077e+06     0.026600\n",
              "max    800.000000       3.711504e+07       3.719410e+07     0.058200"
            ],
            "text/html": [
              "\n",
              "  <div id=\"df-3f1721bd-9f81-4620-935a-0f63944c11fe\" class=\"colab-df-container\">\n",
              "    <div>\n",
              "<style scoped>\n",
              "    .dataframe tbody tr th:only-of-type {\n",
              "        vertical-align: middle;\n",
              "    }\n",
              "\n",
              "    .dataframe tbody tr th {\n",
              "        vertical-align: top;\n",
              "    }\n",
              "\n",
              "    .dataframe thead th {\n",
              "        text-align: right;\n",
              "    }\n",
              "</style>\n",
              "<table border=\"1\" class=\"dataframe\">\n",
              "  <thead>\n",
              "    <tr style=\"text-align: right;\">\n",
              "      <th></th>\n",
              "      <th>Unnamed: 0</th>\n",
              "      <th>Population (2024)</th>\n",
              "      <th>Population (2023)</th>\n",
              "      <th>Growth Rate</th>\n",
              "    </tr>\n",
              "  </thead>\n",
              "  <tbody>\n",
              "    <tr>\n",
              "      <th>count</th>\n",
              "      <td>801.000000</td>\n",
              "      <td>8.010000e+02</td>\n",
              "      <td>8.010000e+02</td>\n",
              "      <td>801.000000</td>\n",
              "    </tr>\n",
              "    <tr>\n",
              "      <th>mean</th>\n",
              "      <td>400.000000</td>\n",
              "      <td>2.654327e+06</td>\n",
              "      <td>2.604461e+06</td>\n",
              "      <td>0.020051</td>\n",
              "    </tr>\n",
              "    <tr>\n",
              "      <th>std</th>\n",
              "      <td>231.373075</td>\n",
              "      <td>3.723253e+06</td>\n",
              "      <td>3.661201e+06</td>\n",
              "      <td>0.012180</td>\n",
              "    </tr>\n",
              "    <tr>\n",
              "      <th>min</th>\n",
              "      <td>0.000000</td>\n",
              "      <td>7.500360e+05</td>\n",
              "      <td>7.228360e+05</td>\n",
              "      <td>-0.024900</td>\n",
              "    </tr>\n",
              "    <tr>\n",
              "      <th>25%</th>\n",
              "      <td>200.000000</td>\n",
              "      <td>9.909310e+05</td>\n",
              "      <td>9.698040e+05</td>\n",
              "      <td>0.012200</td>\n",
              "    </tr>\n",
              "    <tr>\n",
              "      <th>50%</th>\n",
              "      <td>400.000000</td>\n",
              "      <td>1.379368e+06</td>\n",
              "      <td>1.363510e+06</td>\n",
              "      <td>0.019700</td>\n",
              "    </tr>\n",
              "    <tr>\n",
              "      <th>75%</th>\n",
              "      <td>600.000000</td>\n",
              "      <td>2.570980e+06</td>\n",
              "      <td>2.514077e+06</td>\n",
              "      <td>0.026600</td>\n",
              "    </tr>\n",
              "    <tr>\n",
              "      <th>max</th>\n",
              "      <td>800.000000</td>\n",
              "      <td>3.711504e+07</td>\n",
              "      <td>3.719410e+07</td>\n",
              "      <td>0.058200</td>\n",
              "    </tr>\n",
              "  </tbody>\n",
              "</table>\n",
              "</div>\n",
              "    <div class=\"colab-df-buttons\">\n",
              "\n",
              "  <div class=\"colab-df-container\">\n",
              "    <button class=\"colab-df-convert\" onclick=\"convertToInteractive('df-3f1721bd-9f81-4620-935a-0f63944c11fe')\"\n",
              "            title=\"Convert this dataframe to an interactive table.\"\n",
              "            style=\"display:none;\">\n",
              "\n",
              "  <svg xmlns=\"http://www.w3.org/2000/svg\" height=\"24px\" viewBox=\"0 -960 960 960\">\n",
              "    <path d=\"M120-120v-720h720v720H120Zm60-500h600v-160H180v160Zm220 220h160v-160H400v160Zm0 220h160v-160H400v160ZM180-400h160v-160H180v160Zm440 0h160v-160H620v160ZM180-180h160v-160H180v160Zm440 0h160v-160H620v160Z\"/>\n",
              "  </svg>\n",
              "    </button>\n",
              "\n",
              "  <style>\n",
              "    .colab-df-container {\n",
              "      display:flex;\n",
              "      gap: 12px;\n",
              "    }\n",
              "\n",
              "    .colab-df-convert {\n",
              "      background-color: #E8F0FE;\n",
              "      border: none;\n",
              "      border-radius: 50%;\n",
              "      cursor: pointer;\n",
              "      display: none;\n",
              "      fill: #1967D2;\n",
              "      height: 32px;\n",
              "      padding: 0 0 0 0;\n",
              "      width: 32px;\n",
              "    }\n",
              "\n",
              "    .colab-df-convert:hover {\n",
              "      background-color: #E2EBFA;\n",
              "      box-shadow: 0px 1px 2px rgba(60, 64, 67, 0.3), 0px 1px 3px 1px rgba(60, 64, 67, 0.15);\n",
              "      fill: #174EA6;\n",
              "    }\n",
              "\n",
              "    .colab-df-buttons div {\n",
              "      margin-bottom: 4px;\n",
              "    }\n",
              "\n",
              "    [theme=dark] .colab-df-convert {\n",
              "      background-color: #3B4455;\n",
              "      fill: #D2E3FC;\n",
              "    }\n",
              "\n",
              "    [theme=dark] .colab-df-convert:hover {\n",
              "      background-color: #434B5C;\n",
              "      box-shadow: 0px 1px 3px 1px rgba(0, 0, 0, 0.15);\n",
              "      filter: drop-shadow(0px 1px 2px rgba(0, 0, 0, 0.3));\n",
              "      fill: #FFFFFF;\n",
              "    }\n",
              "  </style>\n",
              "\n",
              "    <script>\n",
              "      const buttonEl =\n",
              "        document.querySelector('#df-3f1721bd-9f81-4620-935a-0f63944c11fe button.colab-df-convert');\n",
              "      buttonEl.style.display =\n",
              "        google.colab.kernel.accessAllowed ? 'block' : 'none';\n",
              "\n",
              "      async function convertToInteractive(key) {\n",
              "        const element = document.querySelector('#df-3f1721bd-9f81-4620-935a-0f63944c11fe');\n",
              "        const dataTable =\n",
              "          await google.colab.kernel.invokeFunction('convertToInteractive',\n",
              "                                                    [key], {});\n",
              "        if (!dataTable) return;\n",
              "\n",
              "        const docLinkHtml = 'Like what you see? Visit the ' +\n",
              "          '<a target=\"_blank\" href=https://colab.research.google.com/notebooks/data_table.ipynb>data table notebook</a>'\n",
              "          + ' to learn more about interactive tables.';\n",
              "        element.innerHTML = '';\n",
              "        dataTable['output_type'] = 'display_data';\n",
              "        await google.colab.output.renderOutput(dataTable, element);\n",
              "        const docLink = document.createElement('div');\n",
              "        docLink.innerHTML = docLinkHtml;\n",
              "        element.appendChild(docLink);\n",
              "      }\n",
              "    </script>\n",
              "  </div>\n",
              "\n",
              "\n",
              "<div id=\"df-98526251-40a5-4c9f-9f2f-ef744e677a8c\">\n",
              "  <button class=\"colab-df-quickchart\" onclick=\"quickchart('df-98526251-40a5-4c9f-9f2f-ef744e677a8c')\"\n",
              "            title=\"Suggest charts\"\n",
              "            style=\"display:none;\">\n",
              "\n",
              "<svg xmlns=\"http://www.w3.org/2000/svg\" height=\"24px\"viewBox=\"0 0 24 24\"\n",
              "     width=\"24px\">\n",
              "    <g>\n",
              "        <path d=\"M19 3H5c-1.1 0-2 .9-2 2v14c0 1.1.9 2 2 2h14c1.1 0 2-.9 2-2V5c0-1.1-.9-2-2-2zM9 17H7v-7h2v7zm4 0h-2V7h2v10zm4 0h-2v-4h2v4z\"/>\n",
              "    </g>\n",
              "</svg>\n",
              "  </button>\n",
              "\n",
              "<style>\n",
              "  .colab-df-quickchart {\n",
              "      --bg-color: #E8F0FE;\n",
              "      --fill-color: #1967D2;\n",
              "      --hover-bg-color: #E2EBFA;\n",
              "      --hover-fill-color: #174EA6;\n",
              "      --disabled-fill-color: #AAA;\n",
              "      --disabled-bg-color: #DDD;\n",
              "  }\n",
              "\n",
              "  [theme=dark] .colab-df-quickchart {\n",
              "      --bg-color: #3B4455;\n",
              "      --fill-color: #D2E3FC;\n",
              "      --hover-bg-color: #434B5C;\n",
              "      --hover-fill-color: #FFFFFF;\n",
              "      --disabled-bg-color: #3B4455;\n",
              "      --disabled-fill-color: #666;\n",
              "  }\n",
              "\n",
              "  .colab-df-quickchart {\n",
              "    background-color: var(--bg-color);\n",
              "    border: none;\n",
              "    border-radius: 50%;\n",
              "    cursor: pointer;\n",
              "    display: none;\n",
              "    fill: var(--fill-color);\n",
              "    height: 32px;\n",
              "    padding: 0;\n",
              "    width: 32px;\n",
              "  }\n",
              "\n",
              "  .colab-df-quickchart:hover {\n",
              "    background-color: var(--hover-bg-color);\n",
              "    box-shadow: 0 1px 2px rgba(60, 64, 67, 0.3), 0 1px 3px 1px rgba(60, 64, 67, 0.15);\n",
              "    fill: var(--button-hover-fill-color);\n",
              "  }\n",
              "\n",
              "  .colab-df-quickchart-complete:disabled,\n",
              "  .colab-df-quickchart-complete:disabled:hover {\n",
              "    background-color: var(--disabled-bg-color);\n",
              "    fill: var(--disabled-fill-color);\n",
              "    box-shadow: none;\n",
              "  }\n",
              "\n",
              "  .colab-df-spinner {\n",
              "    border: 2px solid var(--fill-color);\n",
              "    border-color: transparent;\n",
              "    border-bottom-color: var(--fill-color);\n",
              "    animation:\n",
              "      spin 1s steps(1) infinite;\n",
              "  }\n",
              "\n",
              "  @keyframes spin {\n",
              "    0% {\n",
              "      border-color: transparent;\n",
              "      border-bottom-color: var(--fill-color);\n",
              "      border-left-color: var(--fill-color);\n",
              "    }\n",
              "    20% {\n",
              "      border-color: transparent;\n",
              "      border-left-color: var(--fill-color);\n",
              "      border-top-color: var(--fill-color);\n",
              "    }\n",
              "    30% {\n",
              "      border-color: transparent;\n",
              "      border-left-color: var(--fill-color);\n",
              "      border-top-color: var(--fill-color);\n",
              "      border-right-color: var(--fill-color);\n",
              "    }\n",
              "    40% {\n",
              "      border-color: transparent;\n",
              "      border-right-color: var(--fill-color);\n",
              "      border-top-color: var(--fill-color);\n",
              "    }\n",
              "    60% {\n",
              "      border-color: transparent;\n",
              "      border-right-color: var(--fill-color);\n",
              "    }\n",
              "    80% {\n",
              "      border-color: transparent;\n",
              "      border-right-color: var(--fill-color);\n",
              "      border-bottom-color: var(--fill-color);\n",
              "    }\n",
              "    90% {\n",
              "      border-color: transparent;\n",
              "      border-bottom-color: var(--fill-color);\n",
              "    }\n",
              "  }\n",
              "</style>\n",
              "\n",
              "  <script>\n",
              "    async function quickchart(key) {\n",
              "      const quickchartButtonEl =\n",
              "        document.querySelector('#' + key + ' button');\n",
              "      quickchartButtonEl.disabled = true;  // To prevent multiple clicks.\n",
              "      quickchartButtonEl.classList.add('colab-df-spinner');\n",
              "      try {\n",
              "        const charts = await google.colab.kernel.invokeFunction(\n",
              "            'suggestCharts', [key], {});\n",
              "      } catch (error) {\n",
              "        console.error('Error during call to suggestCharts:', error);\n",
              "      }\n",
              "      quickchartButtonEl.classList.remove('colab-df-spinner');\n",
              "      quickchartButtonEl.classList.add('colab-df-quickchart-complete');\n",
              "    }\n",
              "    (() => {\n",
              "      let quickchartButtonEl =\n",
              "        document.querySelector('#df-98526251-40a5-4c9f-9f2f-ef744e677a8c button');\n",
              "      quickchartButtonEl.style.display =\n",
              "        google.colab.kernel.accessAllowed ? 'block' : 'none';\n",
              "    })();\n",
              "  </script>\n",
              "</div>\n",
              "\n",
              "    </div>\n",
              "  </div>\n"
            ],
            "application/vnd.google.colaboratory.intrinsic+json": {
              "type": "dataframe",
              "summary": "{\n  \"name\": \"df\",\n  \"rows\": 8,\n  \"fields\": [\n    {\n      \"column\": \"Unnamed: 0\",\n      \"properties\": {\n        \"dtype\": \"number\",\n        \"std\": 288.4654928473943,\n        \"min\": 0.0,\n        \"max\": 801.0,\n        \"num_unique_values\": 7,\n        \"samples\": [\n          801.0,\n          400.0,\n          600.0\n        ],\n        \"semantic_type\": \"\",\n        \"description\": \"\"\n      }\n    },\n    {\n      \"column\": \"Population (2024)\",\n      \"properties\": {\n        \"dtype\": \"number\",\n        \"std\": 12570366.268252246,\n        \"min\": 801.0,\n        \"max\": 37115035.0,\n        \"num_unique_values\": 8,\n        \"samples\": [\n          2654327.329588015,\n          1379368.0,\n          801.0\n        ],\n        \"semantic_type\": \"\",\n        \"description\": \"\"\n      }\n    },\n    {\n      \"column\": \"Population (2023)\",\n      \"properties\": {\n        \"dtype\": \"number\",\n        \"std\": 12607987.567642594,\n        \"min\": 801.0,\n        \"max\": 37194105.0,\n        \"num_unique_values\": 8,\n        \"samples\": [\n          2604461.22721598,\n          1363510.0,\n          801.0\n        ],\n        \"semantic_type\": \"\",\n        \"description\": \"\"\n      }\n    },\n    {\n      \"column\": \"Growth Rate\",\n      \"properties\": {\n        \"dtype\": \"number\",\n        \"std\": 283.19000224149454,\n        \"min\": -0.0249,\n        \"max\": 801.0,\n        \"num_unique_values\": 8,\n        \"samples\": [\n          0.02005131086142322,\n          0.0197,\n          801.0\n        ],\n        \"semantic_type\": \"\",\n        \"description\": \"\"\n      }\n    }\n  ]\n}"
            }
          },
          "metadata": {},
          "execution_count": 27
        }
      ]
    },
    {
      "cell_type": "code",
      "source": [
        "import pandas as pd\n",
        "df=pd.read_csv('/content/World Largest Cities by Population 2024.csv')\n",
        "data=df.dropna()\n",
        "print(data)"
      ],
      "metadata": {
        "colab": {
          "base_uri": "https://localhost:8080/"
        },
        "id": "EcBmArqGQ9Ox",
        "outputId": "ba690633-9752-4c4f-f5f5-7082868f65c9"
      },
      "execution_count": 3,
      "outputs": [
        {
          "output_type": "stream",
          "name": "stdout",
          "text": [
            "     Unnamed: 0            City         Country  Population (2024)  \\\n",
            "0             0           Tokyo           Japan           37115035   \n",
            "1             1           Delhi           India           33807403   \n",
            "2             2        Shanghai           China           29867918   \n",
            "3             3           Dhaka      Bangladesh           23935652   \n",
            "4             4       Sao Paulo          Brazil           22806704   \n",
            "..          ...             ...             ...                ...   \n",
            "796         796       Bhavnagar           India             751493   \n",
            "797         797       Sheffield  United Kingdom             751303   \n",
            "798         798          Huambo          Angola             751297   \n",
            "799         799  Ribeirao Preto          Brazil             750174   \n",
            "800         800       Panzhihua           China             750036   \n",
            "\n",
            "     Population (2023)  Growth Rate  \n",
            "0             37194105      -0.0021  \n",
            "1             32941309       0.0263  \n",
            "2             29210808       0.0225  \n",
            "3             23209616       0.0313  \n",
            "4             22619736       0.0083  \n",
            "..                 ...          ...  \n",
            "796             737128       0.0195  \n",
            "797             745876       0.0073  \n",
            "798             727641       0.0325  \n",
            "799             742115       0.0109  \n",
            "800             738495       0.0156  \n",
            "\n",
            "[801 rows x 6 columns]\n"
          ]
        }
      ]
    },
    {
      "cell_type": "code",
      "source": [
        "import pandas as pd\n",
        "df=pd.read_csv('/content/World Largest Cities by Population 2024.csv')\n",
        "data=df.dropna(axis=1)\n",
        "print(data)"
      ],
      "metadata": {
        "colab": {
          "base_uri": "https://localhost:8080/"
        },
        "id": "giUFgQM9RHyz",
        "outputId": "4a85845e-4b77-4a74-f203-42396e648672"
      },
      "execution_count": 4,
      "outputs": [
        {
          "output_type": "stream",
          "name": "stdout",
          "text": [
            "     Unnamed: 0            City         Country  Population (2024)  \\\n",
            "0             0           Tokyo           Japan           37115035   \n",
            "1             1           Delhi           India           33807403   \n",
            "2             2        Shanghai           China           29867918   \n",
            "3             3           Dhaka      Bangladesh           23935652   \n",
            "4             4       Sao Paulo          Brazil           22806704   \n",
            "..          ...             ...             ...                ...   \n",
            "796         796       Bhavnagar           India             751493   \n",
            "797         797       Sheffield  United Kingdom             751303   \n",
            "798         798          Huambo          Angola             751297   \n",
            "799         799  Ribeirao Preto          Brazil             750174   \n",
            "800         800       Panzhihua           China             750036   \n",
            "\n",
            "     Population (2023)  Growth Rate  \n",
            "0             37194105      -0.0021  \n",
            "1             32941309       0.0263  \n",
            "2             29210808       0.0225  \n",
            "3             23209616       0.0313  \n",
            "4             22619736       0.0083  \n",
            "..                 ...          ...  \n",
            "796             737128       0.0195  \n",
            "797             745876       0.0073  \n",
            "798             727641       0.0325  \n",
            "799             742115       0.0109  \n",
            "800             738495       0.0156  \n",
            "\n",
            "[801 rows x 6 columns]\n"
          ]
        }
      ]
    },
    {
      "cell_type": "code",
      "source": [
        "import pandas as pd\n",
        "df=pd.read_csv('/content/World Largest Cities by Population 2024.csv')\n",
        "data=df.fillna(df.mean(numeric_only=True))\n",
        "print(data)"
      ],
      "metadata": {
        "colab": {
          "base_uri": "https://localhost:8080/"
        },
        "id": "6JZzW_t7RMsY",
        "outputId": "007eaa70-edf1-4cdb-b0d7-1fdb9cd4a2be"
      },
      "execution_count": 5,
      "outputs": [
        {
          "output_type": "stream",
          "name": "stdout",
          "text": [
            "     Unnamed: 0            City         Country  Population (2024)  \\\n",
            "0             0           Tokyo           Japan           37115035   \n",
            "1             1           Delhi           India           33807403   \n",
            "2             2        Shanghai           China           29867918   \n",
            "3             3           Dhaka      Bangladesh           23935652   \n",
            "4             4       Sao Paulo          Brazil           22806704   \n",
            "..          ...             ...             ...                ...   \n",
            "796         796       Bhavnagar           India             751493   \n",
            "797         797       Sheffield  United Kingdom             751303   \n",
            "798         798          Huambo          Angola             751297   \n",
            "799         799  Ribeirao Preto          Brazil             750174   \n",
            "800         800       Panzhihua           China             750036   \n",
            "\n",
            "     Population (2023)  Growth Rate  \n",
            "0             37194105      -0.0021  \n",
            "1             32941309       0.0263  \n",
            "2             29210808       0.0225  \n",
            "3             23209616       0.0313  \n",
            "4             22619736       0.0083  \n",
            "..                 ...          ...  \n",
            "796             737128       0.0195  \n",
            "797             745876       0.0073  \n",
            "798             727641       0.0325  \n",
            "799             742115       0.0109  \n",
            "800             738495       0.0156  \n",
            "\n",
            "[801 rows x 6 columns]\n"
          ]
        }
      ]
    },
    {
      "cell_type": "code",
      "source": [
        "import pandas as pd\n",
        "df=pd.read_csv('/content/World Largest Cities by Population 2024.csv')\n",
        "z_score=(df-df.mean(numeric_only=True))/df.std(numeric_only=True)\n",
        "print(z_score)\n"
      ],
      "metadata": {
        "colab": {
          "base_uri": "https://localhost:8080/"
        },
        "id": "czU9ZqdFRbty",
        "outputId": "2ab47f6d-0f65-4e50-eede-5f4026da5ac8"
      },
      "execution_count": 6,
      "outputs": [
        {
          "output_type": "stream",
          "name": "stdout",
          "text": [
            "    City Country  Growth Rate  Population (2023)  Population (2024)  \\\n",
            "0    NaN     NaN    -1.818646           9.447623           9.255537   \n",
            "1    NaN     NaN     0.513024           8.286038           8.367165   \n",
            "2    NaN     NaN     0.201040           7.267109           7.309089   \n",
            "3    NaN     NaN     0.923529           5.627977           5.715788   \n",
            "4    NaN     NaN    -0.964795           5.466861           5.412572   \n",
            "..   ...     ...          ...                ...                ...   \n",
            "796  NaN     NaN    -0.045263          -0.510033          -0.511068   \n",
            "797  NaN     NaN    -1.046896          -0.507644          -0.511119   \n",
            "798  NaN     NaN     1.022050          -0.512624          -0.511120   \n",
            "799  NaN     NaN    -0.751332          -0.508671          -0.511422   \n",
            "800  NaN     NaN    -0.365457          -0.509660          -0.511459   \n",
            "\n",
            "     Unnamed: 0  \n",
            "0     -1.728810  \n",
            "1     -1.724488  \n",
            "2     -1.720166  \n",
            "3     -1.715844  \n",
            "4     -1.711522  \n",
            "..          ...  \n",
            "796    1.711522  \n",
            "797    1.715844  \n",
            "798    1.720166  \n",
            "799    1.724488  \n",
            "800    1.728810  \n",
            "\n",
            "[801 rows x 6 columns]\n"
          ]
        }
      ]
    },
    {
      "cell_type": "code",
      "source": [
        "import pandas as pd\n",
        "df=pd.read_csv('/content/World Largest Cities by Population 2024.csv')\n",
        "numeric_data=df.select_dtypes(include='number')\n",
        "rolling_mean=numeric_data.rolling(window=2).mean()\n",
        "rolling_std=numeric_data.rolling(window=2).std()\n",
        "outliers=numeric_data[(numeric_data-rolling_mean).abs()>-1*rolling_std]\n",
        "print(outliers)"
      ],
      "metadata": {
        "colab": {
          "base_uri": "https://localhost:8080/"
        },
        "id": "zN3YxEY4UWSu",
        "outputId": "a9eb610e-a4bb-44bb-c736-6528881c0304"
      },
      "execution_count": 12,
      "outputs": [
        {
          "output_type": "stream",
          "name": "stdout",
          "text": [
            "     Unnamed: 0  Population (2024)  Population (2023)  Growth Rate\n",
            "0           NaN                NaN                NaN          NaN\n",
            "1           1.0         33807403.0         32941309.0       0.0263\n",
            "2           2.0         29867918.0         29210808.0       0.0225\n",
            "3           3.0         23935652.0         23209616.0       0.0313\n",
            "4           4.0         22806704.0         22619736.0       0.0083\n",
            "..          ...                ...                ...          ...\n",
            "796       796.0           751493.0           737128.0       0.0195\n",
            "797       797.0           751303.0           745876.0       0.0073\n",
            "798       798.0           751297.0           727641.0       0.0325\n",
            "799       799.0           750174.0           742115.0       0.0109\n",
            "800       800.0           750036.0           738495.0       0.0156\n",
            "\n",
            "[801 rows x 4 columns]\n"
          ]
        }
      ]
    },
    {
      "cell_type": "code",
      "source": [
        "import pandas as pd\n",
        "df=pd.read_csv('/content/World Largest Cities by Population 2024.csv')\n",
        "numeric_data=df.select_dtypes(include='number')\n",
        "upper_cap=40\n",
        "lower_cap=5\n",
        "data_clipped=numeric_data.clip(lower=lower_cap, upper=upper_cap)\n",
        "data[data_clipped.columns]=data_clipped\n",
        "print(data)\n",
        "\n"
      ],
      "metadata": {
        "colab": {
          "base_uri": "https://localhost:8080/"
        },
        "id": "4svO4WEmVQFu",
        "outputId": "27d75fcc-a8d4-43c7-b575-dd719854e4ff"
      },
      "execution_count": 14,
      "outputs": [
        {
          "output_type": "stream",
          "name": "stdout",
          "text": [
            "     Unnamed: 0            City         Country  Population (2024)  \\\n",
            "0             5           Tokyo           Japan                 40   \n",
            "1             5           Delhi           India                 40   \n",
            "2             5        Shanghai           China                 40   \n",
            "3             5           Dhaka      Bangladesh                 40   \n",
            "4             5       Sao Paulo          Brazil                 40   \n",
            "..          ...             ...             ...                ...   \n",
            "796          40       Bhavnagar           India                 40   \n",
            "797          40       Sheffield  United Kingdom                 40   \n",
            "798          40          Huambo          Angola                 40   \n",
            "799          40  Ribeirao Preto          Brazil                 40   \n",
            "800          40       Panzhihua           China                 40   \n",
            "\n",
            "     Population (2023)  Growth Rate  \n",
            "0                   40          5.0  \n",
            "1                   40          5.0  \n",
            "2                   40          5.0  \n",
            "3                   40          5.0  \n",
            "4                   40          5.0  \n",
            "..                 ...          ...  \n",
            "796                 40          5.0  \n",
            "797                 40          5.0  \n",
            "798                 40          5.0  \n",
            "799                 40          5.0  \n",
            "800                 40          5.0  \n",
            "\n",
            "[801 rows x 6 columns]\n"
          ]
        }
      ]
    },
    {
      "cell_type": "code",
      "source": [
        "import pandas as pd\n",
        "import numpy as np\n",
        "df=pd.read_csv('/content/World Largest Cities by Population 2024.csv')\n",
        "numeric_data=df.select_dtypes(include='number')\n",
        "data_log_transformtion=np.log(numeric_data)\n",
        "print(data_log_transformtion)"
      ],
      "metadata": {
        "colab": {
          "base_uri": "https://localhost:8080/"
        },
        "id": "orOTPK6gWHgo",
        "outputId": "dfa2f547-d3df-419d-eff1-46ccbca980e9"
      },
      "execution_count": 15,
      "outputs": [
        {
          "output_type": "stream",
          "name": "stdout",
          "text": [
            "     Unnamed: 0  Population (2024)  Population (2023)  Growth Rate\n",
            "0          -inf          17.429533          17.431661          NaN\n",
            "1      0.000000          17.336190          17.310238    -3.638186\n",
            "2      0.693147          17.212295          17.190049    -3.794240\n",
            "3      1.098612          16.990880          16.960077    -3.464137\n",
            "4      1.386294          16.942565          16.934333    -4.791500\n",
            "..          ...                ...                ...          ...\n",
            "796    6.679599          13.529817          13.510517    -3.937341\n",
            "797    6.680855          13.529564          13.522315    -4.919881\n",
            "798    6.682109          13.529556          13.497563    -3.426515\n",
            "799    6.683361          13.528060          13.517259    -4.518992\n",
            "800    6.684612          13.527876          13.512370    -4.160484\n",
            "\n",
            "[801 rows x 4 columns]\n"
          ]
        },
        {
          "output_type": "stream",
          "name": "stderr",
          "text": [
            "/usr/local/lib/python3.10/dist-packages/pandas/core/internals/blocks.py:366: RuntimeWarning: divide by zero encountered in log\n",
            "  result = func(self.values, **kwargs)\n",
            "/usr/local/lib/python3.10/dist-packages/pandas/core/internals/blocks.py:366: RuntimeWarning: invalid value encountered in log\n",
            "  result = func(self.values, **kwargs)\n"
          ]
        }
      ]
    },
    {
      "cell_type": "code",
      "source": [
        "import pandas as pd\n",
        "df=pd.read_csv('/content/World Largest Cities by Population 2024.csv')\n",
        "numeric_data=df.select_dtypes(include='number')\n",
        "outliers=[500]\n",
        "data=df[~df.isin(outliers)]\n",
        "print(data)"
      ],
      "metadata": {
        "colab": {
          "base_uri": "https://localhost:8080/"
        },
        "id": "jyxByRSPWhT-",
        "outputId": "ac8420e4-a256-422a-cd9d-5f7e5212091d"
      },
      "execution_count": 16,
      "outputs": [
        {
          "output_type": "stream",
          "name": "stdout",
          "text": [
            "     Unnamed: 0            City         Country  Population (2024)  \\\n",
            "0           0.0           Tokyo           Japan           37115035   \n",
            "1           1.0           Delhi           India           33807403   \n",
            "2           2.0        Shanghai           China           29867918   \n",
            "3           3.0           Dhaka      Bangladesh           23935652   \n",
            "4           4.0       Sao Paulo          Brazil           22806704   \n",
            "..          ...             ...             ...                ...   \n",
            "796       796.0       Bhavnagar           India             751493   \n",
            "797       797.0       Sheffield  United Kingdom             751303   \n",
            "798       798.0          Huambo          Angola             751297   \n",
            "799       799.0  Ribeirao Preto          Brazil             750174   \n",
            "800       800.0       Panzhihua           China             750036   \n",
            "\n",
            "     Population (2023)  Growth Rate  \n",
            "0             37194105      -0.0021  \n",
            "1             32941309       0.0263  \n",
            "2             29210808       0.0225  \n",
            "3             23209616       0.0313  \n",
            "4             22619736       0.0083  \n",
            "..                 ...          ...  \n",
            "796             737128       0.0195  \n",
            "797             745876       0.0073  \n",
            "798             727641       0.0325  \n",
            "799             742115       0.0109  \n",
            "800             738495       0.0156  \n",
            "\n",
            "[801 rows x 6 columns]\n"
          ]
        }
      ]
    },
    {
      "cell_type": "code",
      "source": [
        "import pandas as pd\n",
        "df=pd.read_csv('/content/World Largest Cities by Population 2024.csv')\n",
        "data=df.drop_duplicates()\n",
        "print(data)\n"
      ],
      "metadata": {
        "colab": {
          "base_uri": "https://localhost:8080/"
        },
        "id": "rO89ELlpWxGW",
        "outputId": "5b22354c-d327-41ee-ea4f-c71dd36f0b11"
      },
      "execution_count": 17,
      "outputs": [
        {
          "output_type": "stream",
          "name": "stdout",
          "text": [
            "     Unnamed: 0            City         Country  Population (2024)  \\\n",
            "0             0           Tokyo           Japan           37115035   \n",
            "1             1           Delhi           India           33807403   \n",
            "2             2        Shanghai           China           29867918   \n",
            "3             3           Dhaka      Bangladesh           23935652   \n",
            "4             4       Sao Paulo          Brazil           22806704   \n",
            "..          ...             ...             ...                ...   \n",
            "796         796       Bhavnagar           India             751493   \n",
            "797         797       Sheffield  United Kingdom             751303   \n",
            "798         798          Huambo          Angola             751297   \n",
            "799         799  Ribeirao Preto          Brazil             750174   \n",
            "800         800       Panzhihua           China             750036   \n",
            "\n",
            "     Population (2023)  Growth Rate  \n",
            "0             37194105      -0.0021  \n",
            "1             32941309       0.0263  \n",
            "2             29210808       0.0225  \n",
            "3             23209616       0.0313  \n",
            "4             22619736       0.0083  \n",
            "..                 ...          ...  \n",
            "796             737128       0.0195  \n",
            "797             745876       0.0073  \n",
            "798             727641       0.0325  \n",
            "799             742115       0.0109  \n",
            "800             738495       0.0156  \n",
            "\n",
            "[801 rows x 6 columns]\n"
          ]
        }
      ]
    },
    {
      "cell_type": "code",
      "source": [
        "import pandas as pd\n",
        "df=pd.read_csv('/content/World Largest Cities by Population 2024.csv')\n",
        "data=df.drop_duplicates(subset=['City'])\n",
        "print(data)"
      ],
      "metadata": {
        "colab": {
          "base_uri": "https://localhost:8080/"
        },
        "id": "LSASLWIoXAEV",
        "outputId": "60f55f02-c8a3-4342-e9df-22db2c198745"
      },
      "execution_count": 18,
      "outputs": [
        {
          "output_type": "stream",
          "name": "stdout",
          "text": [
            "     Unnamed: 0            City         Country  Population (2024)  \\\n",
            "0             0           Tokyo           Japan           37115035   \n",
            "1             1           Delhi           India           33807403   \n",
            "2             2        Shanghai           China           29867918   \n",
            "3             3           Dhaka      Bangladesh           23935652   \n",
            "4             4       Sao Paulo          Brazil           22806704   \n",
            "..          ...             ...             ...                ...   \n",
            "796         796       Bhavnagar           India             751493   \n",
            "797         797       Sheffield  United Kingdom             751303   \n",
            "798         798          Huambo          Angola             751297   \n",
            "799         799  Ribeirao Preto          Brazil             750174   \n",
            "800         800       Panzhihua           China             750036   \n",
            "\n",
            "     Population (2023)  Growth Rate  \n",
            "0             37194105      -0.0021  \n",
            "1             32941309       0.0263  \n",
            "2             29210808       0.0225  \n",
            "3             23209616       0.0313  \n",
            "4             22619736       0.0083  \n",
            "..                 ...          ...  \n",
            "796             737128       0.0195  \n",
            "797             745876       0.0073  \n",
            "798             727641       0.0325  \n",
            "799             742115       0.0109  \n",
            "800             738495       0.0156  \n",
            "\n",
            "[797 rows x 6 columns]\n"
          ]
        }
      ]
    },
    {
      "cell_type": "code",
      "source": [
        "import pandas as pd\n",
        "from sklearn.preprocessing import MinMaxScaler\n",
        "df=pd.read_csv('/content/World Largest Cities by Population 2024.csv')\n",
        "data=df.select_dtypes(include='number').values\n",
        "scaler=MinMaxScaler()\n",
        "normalized=scaler.fit_transform(data)\n",
        "print(normalized)"
      ],
      "metadata": {
        "colab": {
          "base_uri": "https://localhost:8080/"
        },
        "id": "vhn7wSfYXdQ_",
        "outputId": "c7151327-e456-4565-d9af-894178499722"
      },
      "execution_count": 20,
      "outputs": [
        {
          "output_type": "stream",
          "name": "stdout",
          "text": [
            "[[0.00000000e+00 1.00000000e+00 1.00000000e+00 2.74368231e-01]\n",
            " [1.25000000e-03 9.09043528e-01 8.83393254e-01 6.16125150e-01]\n",
            " [2.50000000e-03 8.00711750e-01 7.81107233e-01 5.70397112e-01]\n",
            " ...\n",
            " [9.97500000e-01 3.46762006e-05 1.31747541e-04 6.90734055e-01]\n",
            " [9.98750000e-01 3.79485780e-06 5.28607875e-04 4.30806258e-01]\n",
            " [1.00000000e+00 0.00000000e+00 4.29351663e-04 4.87364621e-01]]\n"
          ]
        }
      ]
    },
    {
      "cell_type": "code",
      "source": [
        "import pandas as pd\n",
        "from sklearn.preprocessing import StandardScaler\n",
        "df=pd.read_csv('/content/World Largest Cities by Population 2024.csv')\n",
        "data=df.select_dtypes(include='number')\n",
        "scaler=StandardScaler()\n",
        "standard=scaler.fit_transform(data)\n",
        "print(standard)"
      ],
      "metadata": {
        "colab": {
          "base_uri": "https://localhost:8080/"
        },
        "id": "ELHqTeXbX3FF",
        "outputId": "bf8b0cda-62db-4350-9b40-7aff58865fa7"
      },
      "execution_count": 21,
      "outputs": [
        {
          "output_type": "stream",
          "name": "stdout",
          "text": [
            "[[-1.7298898   9.2613197   9.45352553 -1.81978222]\n",
            " [-1.72556507  8.37239316  8.29121475  0.51334449]\n",
            " [-1.72124035  7.31365605  7.27164986  0.20116556]\n",
            " ...\n",
            " [ 1.72124035 -0.51143965 -0.51294451  1.02268905]\n",
            " [ 1.72556507 -0.51174146 -0.50898869 -0.75180168]\n",
            " [ 1.7298898  -0.51177854 -0.50997806 -0.36568564]]\n"
          ]
        }
      ]
    },
    {
      "cell_type": "code",
      "source": [
        "import pandas as pd\n",
        "df=pd.read_csv('/content/World Largest Cities by Population 2024.csv')\n",
        "binary=pd.get_dummies(df['Population (2023)'])\n",
        "print(binary)\n"
      ],
      "metadata": {
        "colab": {
          "base_uri": "https://localhost:8080/"
        },
        "id": "pErQi0nWYbyH",
        "outputId": "093792dd-d754-4259-de8f-c0fe8f9b0639"
      },
      "execution_count": 23,
      "outputs": [
        {
          "output_type": "stream",
          "name": "stdout",
          "text": [
            "     722836    727641    729276    729768    733810    734699    737128    \\\n",
            "0       False     False     False     False     False     False     False   \n",
            "1       False     False     False     False     False     False     False   \n",
            "2       False     False     False     False     False     False     False   \n",
            "3       False     False     False     False     False     False     False   \n",
            "4       False     False     False     False     False     False     False   \n",
            "..        ...       ...       ...       ...       ...       ...       ...   \n",
            "796     False     False     False     False     False     False      True   \n",
            "797     False     False     False     False     False     False     False   \n",
            "798     False      True     False     False     False     False     False   \n",
            "799     False     False     False     False     False     False     False   \n",
            "800     False     False     False     False     False     False     False   \n",
            "\n",
            "     738200    738495    738552    ...  19013434  21296517  21766214  \\\n",
            "0       False     False     False  ...     False     False     False   \n",
            "1       False     False     False  ...     False     False     False   \n",
            "2       False     False     False  ...     False     False     False   \n",
            "3       False     False     False  ...     False     False     False   \n",
            "4       False     False     False  ...     False     False     False   \n",
            "..        ...       ...       ...  ...       ...       ...       ...   \n",
            "796     False     False     False  ...     False     False     False   \n",
            "797     False     False     False  ...     False     False     False   \n",
            "798     False     False     False  ...     False     False     False   \n",
            "799     False     False     False  ...     False     False     False   \n",
            "800     False      True     False  ...     False     False     False   \n",
            "\n",
            "     22183201  22281442  22619736  23209616  29210808  32941309  37194105  \n",
            "0       False     False     False     False     False     False      True  \n",
            "1       False     False     False     False     False      True     False  \n",
            "2       False     False     False     False      True     False     False  \n",
            "3       False     False     False      True     False     False     False  \n",
            "4       False     False      True     False     False     False     False  \n",
            "..        ...       ...       ...       ...       ...       ...       ...  \n",
            "796     False     False     False     False     False     False     False  \n",
            "797     False     False     False     False     False     False     False  \n",
            "798     False     False     False     False     False     False     False  \n",
            "799     False     False     False     False     False     False     False  \n",
            "800     False     False     False     False     False     False     False  \n",
            "\n",
            "[801 rows x 801 columns]\n"
          ]
        }
      ]
    },
    {
      "cell_type": "code",
      "source": [
        "import pandas as pd\n",
        "df=pd.read_csv('/content/World Largest Cities by Population 2024.csv')\n",
        "ranked=df['City'].rank()\n",
        "print(ranked)"
      ],
      "metadata": {
        "colab": {
          "base_uri": "https://localhost:8080/"
        },
        "id": "3GCa5DScY2KE",
        "outputId": "d77a1602-6c0a-4c72-a38c-b2bf67f1b319"
      },
      "execution_count": 24,
      "outputs": [
        {
          "output_type": "stream",
          "name": "stdout",
          "text": [
            "0      693.0\n",
            "1      192.0\n",
            "2      622.0\n",
            "3      198.0\n",
            "4      612.0\n",
            "       ...  \n",
            "796     91.0\n",
            "797    630.0\n",
            "798    291.0\n",
            "799    581.0\n",
            "800    533.0\n",
            "Name: City, Length: 801, dtype: float64\n"
          ]
        }
      ]
    },
    {
      "cell_type": "code",
      "source": [
        "import pandas as pd\n",
        "from sklearn.decomposition import PCA\n",
        "df=pd.read_csv('/content/World Largest Cities by Population 2024.csv')\n",
        "numeric_data=df.select_dtypes(include='number')\n",
        "array=numeric_data.values\n",
        "pca=PCA(n_components=2)\n",
        "reduced_data=pca.fit_transform(array)\n",
        "print('orginial data shape:', array.shape)\n",
        "print('reduce data shape:', reduced_data.shape)"
      ],
      "metadata": {
        "colab": {
          "base_uri": "https://localhost:8080/"
        },
        "id": "mf2pz6NsZBkc",
        "outputId": "a497bb43-248c-48cf-8f13-aa72e284873b"
      },
      "execution_count": 25,
      "outputs": [
        {
          "output_type": "stream",
          "name": "stdout",
          "text": [
            "orginial data shape: (801, 4)\n",
            "reduce data shape: (801, 2)\n"
          ]
        }
      ]
    },
    {
      "cell_type": "code",
      "source": [
        "import pandas as pd\n",
        "from sklearn.manifold import TSNE\n",
        "df=pd.read_csv('/content/World Largest Cities by Population 2024.csv')\n",
        "numeric_data=df.select_dtypes(include='number')\n",
        "X=numeric_data.values\n",
        "tsne=TSNE(n_components=2, random_state=42)\n",
        "t_sne=tsne.fit_transform(array)\n",
        "print(' t_sne data shape:', t_sne.shape)\n"
      ],
      "metadata": {
        "colab": {
          "base_uri": "https://localhost:8080/"
        },
        "id": "RxKItZ12aK2N",
        "outputId": "1e4076e3-a20b-4dae-f146-95cc589a303e"
      },
      "execution_count": 26,
      "outputs": [
        {
          "output_type": "stream",
          "name": "stdout",
          "text": [
            " t_sne data shape: (801, 2)\n"
          ]
        }
      ]
    },
    {
      "cell_type": "code",
      "source": [
        "import pandas as pd\n",
        "import numpy as np\n",
        "df=pd.read_csv('/content/World Largest Cities by Population 2024.csv')\n",
        "mean=np.mean(df.select_dtypes(include='number'), axis=0)\n",
        "cov_matrix=np.cov(df.select_types(include='number'), rowvar=False)"
      ],
      "metadata": {
        "id": "lbMMWXw9ata7"
      },
      "execution_count": null,
      "outputs": []
    }
  ]
}